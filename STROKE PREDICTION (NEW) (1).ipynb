{
 "cells": [
  {
   "cell_type": "markdown",
   "id": "a2775bb2",
   "metadata": {},
   "source": [
    "# STROKE PREDICTION USING MACHINE LEARNING"
   ]
  },
  {
   "cell_type": "code",
   "execution_count": 1,
   "id": "79f38cf4",
   "metadata": {},
   "outputs": [],
   "source": [
    "import numpy as np\n",
    "import pandas as pd\n",
    "import matplotlib.pyplot as plt\n",
    "%matplotlib inline\n",
    "import seaborn as sns\n",
    "import warnings\n",
    "warnings.filterwarnings('ignore')"
   ]
  },
  {
   "cell_type": "code",
   "execution_count": 2,
   "id": "e179f676",
   "metadata": {},
   "outputs": [],
   "source": [
    "df= pd.read_csv(r\"C:\\Users\\HPUSER\\Documents\\Masters project\\Stroke prediction\\stroke\\healthcare-dataset-stroke-data.csv\")"
   ]
  },
  {
   "cell_type": "markdown",
   "id": "1e75ce8d",
   "metadata": {},
   "source": [
    "## EXPLORATORY DATA ANALYSIS "
   ]
  },
  {
   "cell_type": "code",
   "execution_count": 3,
   "id": "cbccb902",
   "metadata": {},
   "outputs": [
    {
     "data": {
      "text/html": [
       "<div>\n",
       "<style scoped>\n",
       "    .dataframe tbody tr th:only-of-type {\n",
       "        vertical-align: middle;\n",
       "    }\n",
       "\n",
       "    .dataframe tbody tr th {\n",
       "        vertical-align: top;\n",
       "    }\n",
       "\n",
       "    .dataframe thead th {\n",
       "        text-align: right;\n",
       "    }\n",
       "</style>\n",
       "<table border=\"1\" class=\"dataframe\">\n",
       "  <thead>\n",
       "    <tr style=\"text-align: right;\">\n",
       "      <th></th>\n",
       "      <th>id</th>\n",
       "      <th>gender</th>\n",
       "      <th>age</th>\n",
       "      <th>hypertension</th>\n",
       "      <th>heart_disease</th>\n",
       "      <th>ever_married</th>\n",
       "      <th>work_type</th>\n",
       "      <th>Residence_type</th>\n",
       "      <th>avg_glucose_level</th>\n",
       "      <th>bmi</th>\n",
       "      <th>smoking_status</th>\n",
       "      <th>stroke</th>\n",
       "    </tr>\n",
       "  </thead>\n",
       "  <tbody>\n",
       "    <tr>\n",
       "      <th>0</th>\n",
       "      <td>9046</td>\n",
       "      <td>Male</td>\n",
       "      <td>67.0</td>\n",
       "      <td>0</td>\n",
       "      <td>1</td>\n",
       "      <td>Yes</td>\n",
       "      <td>Private</td>\n",
       "      <td>Urban</td>\n",
       "      <td>228.69</td>\n",
       "      <td>36.6</td>\n",
       "      <td>formerly smoked</td>\n",
       "      <td>1</td>\n",
       "    </tr>\n",
       "    <tr>\n",
       "      <th>1</th>\n",
       "      <td>51676</td>\n",
       "      <td>Female</td>\n",
       "      <td>61.0</td>\n",
       "      <td>0</td>\n",
       "      <td>0</td>\n",
       "      <td>Yes</td>\n",
       "      <td>Self-employed</td>\n",
       "      <td>Rural</td>\n",
       "      <td>202.21</td>\n",
       "      <td>NaN</td>\n",
       "      <td>never smoked</td>\n",
       "      <td>1</td>\n",
       "    </tr>\n",
       "    <tr>\n",
       "      <th>2</th>\n",
       "      <td>31112</td>\n",
       "      <td>Male</td>\n",
       "      <td>80.0</td>\n",
       "      <td>0</td>\n",
       "      <td>1</td>\n",
       "      <td>Yes</td>\n",
       "      <td>Private</td>\n",
       "      <td>Rural</td>\n",
       "      <td>105.92</td>\n",
       "      <td>32.5</td>\n",
       "      <td>never smoked</td>\n",
       "      <td>1</td>\n",
       "    </tr>\n",
       "    <tr>\n",
       "      <th>3</th>\n",
       "      <td>60182</td>\n",
       "      <td>Female</td>\n",
       "      <td>49.0</td>\n",
       "      <td>0</td>\n",
       "      <td>0</td>\n",
       "      <td>Yes</td>\n",
       "      <td>Private</td>\n",
       "      <td>Urban</td>\n",
       "      <td>171.23</td>\n",
       "      <td>34.4</td>\n",
       "      <td>smokes</td>\n",
       "      <td>1</td>\n",
       "    </tr>\n",
       "    <tr>\n",
       "      <th>4</th>\n",
       "      <td>1665</td>\n",
       "      <td>Female</td>\n",
       "      <td>79.0</td>\n",
       "      <td>1</td>\n",
       "      <td>0</td>\n",
       "      <td>Yes</td>\n",
       "      <td>Self-employed</td>\n",
       "      <td>Rural</td>\n",
       "      <td>174.12</td>\n",
       "      <td>24.0</td>\n",
       "      <td>never smoked</td>\n",
       "      <td>1</td>\n",
       "    </tr>\n",
       "  </tbody>\n",
       "</table>\n",
       "</div>"
      ],
      "text/plain": [
       "      id  gender   age  hypertension  heart_disease ever_married  \\\n",
       "0   9046    Male  67.0             0              1          Yes   \n",
       "1  51676  Female  61.0             0              0          Yes   \n",
       "2  31112    Male  80.0             0              1          Yes   \n",
       "3  60182  Female  49.0             0              0          Yes   \n",
       "4   1665  Female  79.0             1              0          Yes   \n",
       "\n",
       "       work_type Residence_type  avg_glucose_level   bmi   smoking_status  \\\n",
       "0        Private          Urban             228.69  36.6  formerly smoked   \n",
       "1  Self-employed          Rural             202.21   NaN     never smoked   \n",
       "2        Private          Rural             105.92  32.5     never smoked   \n",
       "3        Private          Urban             171.23  34.4           smokes   \n",
       "4  Self-employed          Rural             174.12  24.0     never smoked   \n",
       "\n",
       "   stroke  \n",
       "0       1  \n",
       "1       1  \n",
       "2       1  \n",
       "3       1  \n",
       "4       1  "
      ]
     },
     "execution_count": 3,
     "metadata": {},
     "output_type": "execute_result"
    }
   ],
   "source": [
    "df.head()"
   ]
  },
  {
   "cell_type": "code",
   "execution_count": 4,
   "id": "5bd480ed",
   "metadata": {},
   "outputs": [
    {
     "data": {
      "text/plain": [
       "(5110, 12)"
      ]
     },
     "execution_count": 4,
     "metadata": {},
     "output_type": "execute_result"
    }
   ],
   "source": [
    "df.shape"
   ]
  },
  {
   "cell_type": "code",
   "execution_count": 5,
   "id": "d927abb7",
   "metadata": {},
   "outputs": [
    {
     "data": {
      "text/plain": [
       "id                     0\n",
       "gender                 0\n",
       "age                    0\n",
       "hypertension           0\n",
       "heart_disease          0\n",
       "ever_married           0\n",
       "work_type              0\n",
       "Residence_type         0\n",
       "avg_glucose_level      0\n",
       "bmi                  201\n",
       "smoking_status         0\n",
       "stroke                 0\n",
       "dtype: int64"
      ]
     },
     "execution_count": 5,
     "metadata": {},
     "output_type": "execute_result"
    }
   ],
   "source": [
    "df.isna().sum()"
   ]
  },
  {
   "cell_type": "code",
   "execution_count": 6,
   "id": "808e5d0b",
   "metadata": {},
   "outputs": [
    {
     "data": {
      "text/plain": [
       "0"
      ]
     },
     "execution_count": 6,
     "metadata": {},
     "output_type": "execute_result"
    }
   ],
   "source": [
    "df.duplicated().sum()"
   ]
  },
  {
   "cell_type": "code",
   "execution_count": 7,
   "id": "0021de65",
   "metadata": {},
   "outputs": [
    {
     "data": {
      "text/plain": [
       "Index(['id', 'gender', 'age', 'hypertension', 'heart_disease', 'ever_married',\n",
       "       'work_type', 'Residence_type', 'avg_glucose_level', 'bmi',\n",
       "       'smoking_status', 'stroke'],\n",
       "      dtype='object')"
      ]
     },
     "execution_count": 7,
     "metadata": {},
     "output_type": "execute_result"
    }
   ],
   "source": [
    "df.columns"
   ]
  },
  {
   "cell_type": "code",
   "execution_count": 8,
   "id": "a41fc5bf",
   "metadata": {},
   "outputs": [
    {
     "data": {
      "text/plain": [
       "id                     int64\n",
       "gender                object\n",
       "age                  float64\n",
       "hypertension           int64\n",
       "heart_disease          int64\n",
       "ever_married          object\n",
       "work_type             object\n",
       "Residence_type        object\n",
       "avg_glucose_level    float64\n",
       "bmi                  float64\n",
       "smoking_status        object\n",
       "stroke                 int64\n",
       "dtype: object"
      ]
     },
     "execution_count": 8,
     "metadata": {},
     "output_type": "execute_result"
    }
   ],
   "source": [
    "df.dtypes"
   ]
  },
  {
   "cell_type": "code",
   "execution_count": 9,
   "id": "f2bff77a",
   "metadata": {},
   "outputs": [
    {
     "name": "stdout",
     "output_type": "stream",
     "text": [
      "<class 'pandas.core.frame.DataFrame'>\n",
      "RangeIndex: 5110 entries, 0 to 5109\n",
      "Data columns (total 12 columns):\n",
      " #   Column             Non-Null Count  Dtype  \n",
      "---  ------             --------------  -----  \n",
      " 0   id                 5110 non-null   int64  \n",
      " 1   gender             5110 non-null   object \n",
      " 2   age                5110 non-null   float64\n",
      " 3   hypertension       5110 non-null   int64  \n",
      " 4   heart_disease      5110 non-null   int64  \n",
      " 5   ever_married       5110 non-null   object \n",
      " 6   work_type          5110 non-null   object \n",
      " 7   Residence_type     5110 non-null   object \n",
      " 8   avg_glucose_level  5110 non-null   float64\n",
      " 9   bmi                4909 non-null   float64\n",
      " 10  smoking_status     5110 non-null   object \n",
      " 11  stroke             5110 non-null   int64  \n",
      "dtypes: float64(3), int64(4), object(5)\n",
      "memory usage: 479.2+ KB\n"
     ]
    }
   ],
   "source": [
    "df.info()"
   ]
  },
  {
   "cell_type": "code",
   "execution_count": 10,
   "id": "ebe716c5",
   "metadata": {},
   "outputs": [
    {
     "data": {
      "text/html": [
       "<div>\n",
       "<style scoped>\n",
       "    .dataframe tbody tr th:only-of-type {\n",
       "        vertical-align: middle;\n",
       "    }\n",
       "\n",
       "    .dataframe tbody tr th {\n",
       "        vertical-align: top;\n",
       "    }\n",
       "\n",
       "    .dataframe thead th {\n",
       "        text-align: right;\n",
       "    }\n",
       "</style>\n",
       "<table border=\"1\" class=\"dataframe\">\n",
       "  <thead>\n",
       "    <tr style=\"text-align: right;\">\n",
       "      <th></th>\n",
       "      <th>id</th>\n",
       "      <th>age</th>\n",
       "      <th>hypertension</th>\n",
       "      <th>heart_disease</th>\n",
       "      <th>avg_glucose_level</th>\n",
       "      <th>bmi</th>\n",
       "      <th>stroke</th>\n",
       "    </tr>\n",
       "  </thead>\n",
       "  <tbody>\n",
       "    <tr>\n",
       "      <th>count</th>\n",
       "      <td>5110.000000</td>\n",
       "      <td>5110.000000</td>\n",
       "      <td>5110.000000</td>\n",
       "      <td>5110.000000</td>\n",
       "      <td>5110.000000</td>\n",
       "      <td>4909.000000</td>\n",
       "      <td>5110.000000</td>\n",
       "    </tr>\n",
       "    <tr>\n",
       "      <th>mean</th>\n",
       "      <td>36517.829354</td>\n",
       "      <td>43.226614</td>\n",
       "      <td>0.097456</td>\n",
       "      <td>0.054012</td>\n",
       "      <td>106.147677</td>\n",
       "      <td>28.893237</td>\n",
       "      <td>0.048728</td>\n",
       "    </tr>\n",
       "    <tr>\n",
       "      <th>std</th>\n",
       "      <td>21161.721625</td>\n",
       "      <td>22.612647</td>\n",
       "      <td>0.296607</td>\n",
       "      <td>0.226063</td>\n",
       "      <td>45.283560</td>\n",
       "      <td>7.854067</td>\n",
       "      <td>0.215320</td>\n",
       "    </tr>\n",
       "    <tr>\n",
       "      <th>min</th>\n",
       "      <td>67.000000</td>\n",
       "      <td>0.080000</td>\n",
       "      <td>0.000000</td>\n",
       "      <td>0.000000</td>\n",
       "      <td>55.120000</td>\n",
       "      <td>10.300000</td>\n",
       "      <td>0.000000</td>\n",
       "    </tr>\n",
       "    <tr>\n",
       "      <th>25%</th>\n",
       "      <td>17741.250000</td>\n",
       "      <td>25.000000</td>\n",
       "      <td>0.000000</td>\n",
       "      <td>0.000000</td>\n",
       "      <td>77.245000</td>\n",
       "      <td>23.500000</td>\n",
       "      <td>0.000000</td>\n",
       "    </tr>\n",
       "    <tr>\n",
       "      <th>50%</th>\n",
       "      <td>36932.000000</td>\n",
       "      <td>45.000000</td>\n",
       "      <td>0.000000</td>\n",
       "      <td>0.000000</td>\n",
       "      <td>91.885000</td>\n",
       "      <td>28.100000</td>\n",
       "      <td>0.000000</td>\n",
       "    </tr>\n",
       "    <tr>\n",
       "      <th>75%</th>\n",
       "      <td>54682.000000</td>\n",
       "      <td>61.000000</td>\n",
       "      <td>0.000000</td>\n",
       "      <td>0.000000</td>\n",
       "      <td>114.090000</td>\n",
       "      <td>33.100000</td>\n",
       "      <td>0.000000</td>\n",
       "    </tr>\n",
       "    <tr>\n",
       "      <th>max</th>\n",
       "      <td>72940.000000</td>\n",
       "      <td>82.000000</td>\n",
       "      <td>1.000000</td>\n",
       "      <td>1.000000</td>\n",
       "      <td>271.740000</td>\n",
       "      <td>97.600000</td>\n",
       "      <td>1.000000</td>\n",
       "    </tr>\n",
       "  </tbody>\n",
       "</table>\n",
       "</div>"
      ],
      "text/plain": [
       "                 id          age  hypertension  heart_disease  \\\n",
       "count   5110.000000  5110.000000   5110.000000    5110.000000   \n",
       "mean   36517.829354    43.226614      0.097456       0.054012   \n",
       "std    21161.721625    22.612647      0.296607       0.226063   \n",
       "min       67.000000     0.080000      0.000000       0.000000   \n",
       "25%    17741.250000    25.000000      0.000000       0.000000   \n",
       "50%    36932.000000    45.000000      0.000000       0.000000   \n",
       "75%    54682.000000    61.000000      0.000000       0.000000   \n",
       "max    72940.000000    82.000000      1.000000       1.000000   \n",
       "\n",
       "       avg_glucose_level          bmi       stroke  \n",
       "count        5110.000000  4909.000000  5110.000000  \n",
       "mean          106.147677    28.893237     0.048728  \n",
       "std            45.283560     7.854067     0.215320  \n",
       "min            55.120000    10.300000     0.000000  \n",
       "25%            77.245000    23.500000     0.000000  \n",
       "50%            91.885000    28.100000     0.000000  \n",
       "75%           114.090000    33.100000     0.000000  \n",
       "max           271.740000    97.600000     1.000000  "
      ]
     },
     "execution_count": 10,
     "metadata": {},
     "output_type": "execute_result"
    }
   ],
   "source": [
    "df.describe()"
   ]
  },
  {
   "cell_type": "code",
   "execution_count": 11,
   "id": "634fe993",
   "metadata": {},
   "outputs": [
    {
     "data": {
      "text/plain": [
       "id                   5110\n",
       "gender                  3\n",
       "age                   104\n",
       "hypertension            2\n",
       "heart_disease           2\n",
       "ever_married            2\n",
       "work_type               5\n",
       "Residence_type          2\n",
       "avg_glucose_level    3979\n",
       "bmi                   418\n",
       "smoking_status          4\n",
       "stroke                  2\n",
       "dtype: int64"
      ]
     },
     "execution_count": 11,
     "metadata": {},
     "output_type": "execute_result"
    }
   ],
   "source": [
    "df.nunique()"
   ]
  },
  {
   "cell_type": "code",
   "execution_count": 12,
   "id": "fc1366ce",
   "metadata": {},
   "outputs": [
    {
     "data": {
      "text/plain": [
       "array(['Urban', 'Rural'], dtype=object)"
      ]
     },
     "execution_count": 12,
     "metadata": {},
     "output_type": "execute_result"
    }
   ],
   "source": [
    "df[\"Residence_type\"].unique()"
   ]
  },
  {
   "cell_type": "code",
   "execution_count": 13,
   "id": "d0160567",
   "metadata": {},
   "outputs": [
    {
     "data": {
      "text/plain": [
       "array(['Yes', 'No'], dtype=object)"
      ]
     },
     "execution_count": 13,
     "metadata": {},
     "output_type": "execute_result"
    }
   ],
   "source": [
    "df[\"ever_married\"].unique()"
   ]
  },
  {
   "cell_type": "code",
   "execution_count": 14,
   "id": "560b6ef6",
   "metadata": {},
   "outputs": [
    {
     "data": {
      "text/plain": [
       "array(['Private', 'Self-employed', 'Govt_job', 'children', 'Never_worked'],\n",
       "      dtype=object)"
      ]
     },
     "execution_count": 14,
     "metadata": {},
     "output_type": "execute_result"
    }
   ],
   "source": [
    "df[\"work_type\"].unique()"
   ]
  },
  {
   "cell_type": "code",
   "execution_count": 15,
   "id": "bb229864",
   "metadata": {},
   "outputs": [
    {
     "data": {
      "text/plain": [
       "Private          2925\n",
       "Self-employed     819\n",
       "children          687\n",
       "Govt_job          657\n",
       "Never_worked       22\n",
       "Name: work_type, dtype: int64"
      ]
     },
     "execution_count": 15,
     "metadata": {},
     "output_type": "execute_result"
    }
   ],
   "source": [
    "df[\"work_type\"].value_counts()"
   ]
  },
  {
   "cell_type": "code",
   "execution_count": 16,
   "id": "ed09d770",
   "metadata": {},
   "outputs": [
    {
     "data": {
      "image/png": "[encoded data removed]",
      "text/plain": [
       "<Figure size 576x288 with 1 Axes>"
      ]
     },
     "metadata": {
      "needs_background": "light"
     },
     "output_type": "display_data"
    }
   ],
   "source": [
    "plt.figure(figsize= (8,4))\n",
    "sns.barplot(x = df[\"work_type\"], y = df[\"stroke\"])\n",
    "plt.title(\"worktype by stroke\")\n",
    "plt.show()"
   ]
  },
  {
   "cell_type": "code",
   "execution_count": 17,
   "id": "ad3ca3de",
   "metadata": {},
   "outputs": [
    {
     "data": {
      "text/plain": [
       "array(['formerly smoked', 'never smoked', 'smokes', 'Unknown'],\n",
       "      dtype=object)"
      ]
     },
     "execution_count": 17,
     "metadata": {},
     "output_type": "execute_result"
    }
   ],
   "source": [
    "df[\"smoking_status\"].unique()"
   ]
  },
  {
   "cell_type": "code",
   "execution_count": 18,
   "id": "75f7ad49",
   "metadata": {},
   "outputs": [
    {
     "data": {
      "text/plain": [
       "Female    2994\n",
       "Male      2115\n",
       "Other        1\n",
       "Name: gender, dtype: int64"
      ]
     },
     "execution_count": 18,
     "metadata": {},
     "output_type": "execute_result"
    }
   ],
   "source": [
    "df.gender.value_counts()"
   ]
  },
  {
   "cell_type": "code",
   "execution_count": 19,
   "id": "6b32ad45",
   "metadata": {},
   "outputs": [
    {
     "data": {
      "image/png": "[encoded data removed]",
      "text/plain": [
       "<Figure size 432x288 with 1 Axes>"
      ]
     },
     "metadata": {
      "needs_background": "light"
     },
     "output_type": "display_data"
    }
   ],
   "source": [
    "plt.figure(figsize= (6,4))\n",
    "sns.countplot(\"gender\" , data=df)\n",
    "plt.title(\"Total number of each gender\")\n",
    "plt.show()"
   ]
  },
  {
   "cell_type": "code",
   "execution_count": 20,
   "id": "b90408f0",
   "metadata": {},
   "outputs": [
    {
     "data": {
      "text/plain": [
       "never smoked       1892\n",
       "Unknown            1544\n",
       "formerly smoked     885\n",
       "smokes              789\n",
       "Name: smoking_status, dtype: int64"
      ]
     },
     "execution_count": 20,
     "metadata": {},
     "output_type": "execute_result"
    }
   ],
   "source": [
    "df.smoking_status.value_counts()"
   ]
  },
  {
   "cell_type": "code",
   "execution_count": 21,
   "id": "6401ad11",
   "metadata": {},
   "outputs": [
    {
     "data": {
      "text/plain": [
       "Urban    2596\n",
       "Rural    2514\n",
       "Name: Residence_type, dtype: int64"
      ]
     },
     "execution_count": 21,
     "metadata": {},
     "output_type": "execute_result"
    }
   ],
   "source": [
    "df.Residence_type.value_counts()"
   ]
  },
  {
   "cell_type": "code",
   "execution_count": 22,
   "id": "55ad006a",
   "metadata": {},
   "outputs": [
    {
     "data": {
      "image/png": "[encoded data removed]",
      "text/plain": [
       "<Figure size 432x288 with 1 Axes>"
      ]
     },
     "metadata": {
      "needs_background": "light"
     },
     "output_type": "display_data"
    }
   ],
   "source": [
    "#Lets see the distribution of number of Strokes in the dataset\n",
    "# this is a sigh of unbalance dataset\n",
    "sns.countplot(data=df,x=\"stroke\")\n",
    "plt.title (\"Value count of stroke \")\n",
    "plt.show()\n"
   ]
  },
  {
   "cell_type": "code",
   "execution_count": 23,
   "id": "a636dbfd",
   "metadata": {},
   "outputs": [
    {
     "data": {
      "image/png": "[encoded data removed]",
      "text/plain": [
       "<Figure size 432x288 with 1 Axes>"
      ]
     },
     "metadata": {
      "needs_background": "light"
     },
     "output_type": "display_data"
    }
   ],
   "source": [
    "plt.figure(figsize=(6,4))\n",
    "sns.barplot(x = df[\"stroke\"], y = df[\"heart_disease\"], hue = df[\"gender\"])\n",
    "plt.xlabel(\"stroke\")\n",
    "plt.ylabel(\"heart_disease\")\n",
    "plt.title (\"gender with srtoke by heart_disease \")\n",
    "plt.show()"
   ]
  },
  {
   "cell_type": "code",
   "execution_count": 24,
   "id": "7297b88a",
   "metadata": {},
   "outputs": [
    {
     "data": {
      "image/png": "[encoded data removed]",
      "text/plain": [
       "<Figure size 432x288 with 1 Axes>"
      ]
     },
     "metadata": {
      "needs_background": "light"
     },
     "output_type": "display_data"
    }
   ],
   "source": [
    "plt.figure(figsize=(6,4))\n",
    "sns.barplot(x = df[\"work_type\"], y = df[\"stroke\"], hue = df[\"gender\"])\n",
    "plt.xlabel(\"work_type\")\n",
    "plt.ylabel(\"hypertension\")\n",
    "plt.title (\"gender with work_type by hypertension\")\n",
    "plt.show()"
   ]
  },
  {
   "cell_type": "code",
   "execution_count": 25,
   "id": "76e9c215",
   "metadata": {},
   "outputs": [
    {
     "data": {
      "image/png": "[encoded data removed]",
      "text/plain": [
       "<Figure size 432x288 with 1 Axes>"
      ]
     },
     "metadata": {
      "needs_background": "light"
     },
     "output_type": "display_data"
    }
   ],
   "source": [
    "plt.figure(figsize=(6,4))\n",
    "sns.barplot(x = df[\"smoking_status\"], y = df[\"stroke\"], hue = df[\"gender\"])\n",
    "plt.xlabel(\"smoking_status\")\n",
    "plt.ylabel(\"stroke\")\n",
    "plt.title (\"gender with smoking_staatus by stroke \")\n",
    "plt.show()"
   ]
  },
  {
   "cell_type": "markdown",
   "id": "2360ce12",
   "metadata": {},
   "source": [
    "## DATA PEPROCESSING"
   ]
  },
  {
   "cell_type": "code",
   "execution_count": 26,
   "id": "03558e82",
   "metadata": {},
   "outputs": [],
   "source": [
    "from sklearn.preprocessing import LabelEncoder\n",
    "from sklearn.model_selection import train_test_split\n",
    "from sklearn.preprocessing import StandardScaler\n",
    "from sklearn.metrics import confusion_matrix\n",
    "from sklearn import metrics\n",
    "from sklearn.metrics import roc_curve,roc_auc_score\n",
    "from sklearn.linear_model import LogisticRegression\n",
    "from sklearn.ensemble import RandomForestClassifier\n",
    "from xgboost import XGBClassifier\n",
    "import xgboost as xgb\n",
    "from sklearn.metrics import r2_score\n",
    "from sklearn.metrics import accuracy_score\n",
    "from sklearn.model_selection import train_test_split\n",
    "from matplotlib import pyplot\n",
    "from sklearn.ensemble import StackingClassifier\n",
    "from sklearn.metrics import accuracy_score\n"
   ]
  },
  {
   "cell_type": "code",
   "execution_count": 27,
   "id": "f61bff78",
   "metadata": {},
   "outputs": [
    {
     "data": {
      "text/plain": [
       "(5110, 12)"
      ]
     },
     "execution_count": 27,
     "metadata": {},
     "output_type": "execute_result"
    }
   ],
   "source": [
    "df.shape"
   ]
  },
  {
   "cell_type": "code",
   "execution_count": 28,
   "id": "0aa83c19",
   "metadata": {},
   "outputs": [],
   "source": [
    "#changing age which was in float to int\n",
    "df=df.astype({\"age\":\"int\"})"
   ]
  },
  {
   "cell_type": "code",
   "execution_count": 29,
   "id": "ca1781c6",
   "metadata": {},
   "outputs": [],
   "source": [
    "#We should fill it with bmi column's mean value.\n",
    "df[\"bmi\"].fillna(df[\"bmi\"].mean(), inplace=True)"
   ]
  },
  {
   "cell_type": "code",
   "execution_count": 30,
   "id": "cd10ffa7",
   "metadata": {},
   "outputs": [
    {
     "data": {
      "text/plain": [
       "id                   0\n",
       "gender               0\n",
       "age                  0\n",
       "hypertension         0\n",
       "heart_disease        0\n",
       "ever_married         0\n",
       "work_type            0\n",
       "Residence_type       0\n",
       "avg_glucose_level    0\n",
       "bmi                  0\n",
       "smoking_status       0\n",
       "stroke               0\n",
       "dtype: int64"
      ]
     },
     "execution_count": 30,
     "metadata": {},
     "output_type": "execute_result"
    }
   ],
   "source": [
    "df.isnull().sum()"
   ]
  },
  {
   "cell_type": "code",
   "execution_count": 31,
   "id": "d41bc7fc",
   "metadata": {},
   "outputs": [],
   "source": [
    "#drop the id column because it is irrelevant\n",
    "df.drop([\"id\"], axis=1, inplace=True)"
   ]
  },
  {
   "cell_type": "code",
   "execution_count": 32,
   "id": "e3f80480",
   "metadata": {},
   "outputs": [],
   "source": [
    "df['work_type'] = df['work_type'].map({'Private':0, 'Self-employed': 1, 'Govt_job':2, 'children':3, 'Never_worked':4})"
   ]
  },
  {
   "cell_type": "code",
   "execution_count": 33,
   "id": "b0bb94e0",
   "metadata": {},
   "outputs": [],
   "source": [
    "df['gender'] = df['gender'].map({'Male':0, 'Female':1})\n",
    "df['Residence_type'] = df['Residence_type'].map({'Urban':0, 'Rural':1})\n",
    "df['smoking_status'] = df['smoking_status'].map({'formerly smoked':0, 'never smoked':1, 'smokes':2, 'Unknown':3})\n",
    "df['ever_married'] = df['ever_married'].map({'Yes':0, 'No':1})"
   ]
  },
  {
   "cell_type": "code",
   "execution_count": 34,
   "id": "455a7899",
   "metadata": {},
   "outputs": [
    {
     "data": {
      "text/html": [
       "<div>\n",
       "<style scoped>\n",
       "    .dataframe tbody tr th:only-of-type {\n",
       "        vertical-align: middle;\n",
       "    }\n",
       "\n",
       "    .dataframe tbody tr th {\n",
       "        vertical-align: top;\n",
       "    }\n",
       "\n",
       "    .dataframe thead th {\n",
       "        text-align: right;\n",
       "    }\n",
       "</style>\n",
       "<table border=\"1\" class=\"dataframe\">\n",
       "  <thead>\n",
       "    <tr style=\"text-align: right;\">\n",
       "      <th></th>\n",
       "      <th>gender</th>\n",
       "      <th>age</th>\n",
       "      <th>hypertension</th>\n",
       "      <th>heart_disease</th>\n",
       "      <th>ever_married</th>\n",
       "      <th>work_type</th>\n",
       "      <th>Residence_type</th>\n",
       "      <th>avg_glucose_level</th>\n",
       "      <th>bmi</th>\n",
       "      <th>smoking_status</th>\n",
       "      <th>stroke</th>\n",
       "    </tr>\n",
       "  </thead>\n",
       "  <tbody>\n",
       "    <tr>\n",
       "      <th>0</th>\n",
       "      <td>0.0</td>\n",
       "      <td>67</td>\n",
       "      <td>0</td>\n",
       "      <td>1</td>\n",
       "      <td>0</td>\n",
       "      <td>0</td>\n",
       "      <td>0</td>\n",
       "      <td>228.69</td>\n",
       "      <td>36.600000</td>\n",
       "      <td>0</td>\n",
       "      <td>1</td>\n",
       "    </tr>\n",
       "    <tr>\n",
       "      <th>1</th>\n",
       "      <td>1.0</td>\n",
       "      <td>61</td>\n",
       "      <td>0</td>\n",
       "      <td>0</td>\n",
       "      <td>0</td>\n",
       "      <td>1</td>\n",
       "      <td>1</td>\n",
       "      <td>202.21</td>\n",
       "      <td>28.893237</td>\n",
       "      <td>1</td>\n",
       "      <td>1</td>\n",
       "    </tr>\n",
       "    <tr>\n",
       "      <th>2</th>\n",
       "      <td>0.0</td>\n",
       "      <td>80</td>\n",
       "      <td>0</td>\n",
       "      <td>1</td>\n",
       "      <td>0</td>\n",
       "      <td>0</td>\n",
       "      <td>1</td>\n",
       "      <td>105.92</td>\n",
       "      <td>32.500000</td>\n",
       "      <td>1</td>\n",
       "      <td>1</td>\n",
       "    </tr>\n",
       "    <tr>\n",
       "      <th>3</th>\n",
       "      <td>1.0</td>\n",
       "      <td>49</td>\n",
       "      <td>0</td>\n",
       "      <td>0</td>\n",
       "      <td>0</td>\n",
       "      <td>0</td>\n",
       "      <td>0</td>\n",
       "      <td>171.23</td>\n",
       "      <td>34.400000</td>\n",
       "      <td>2</td>\n",
       "      <td>1</td>\n",
       "    </tr>\n",
       "    <tr>\n",
       "      <th>4</th>\n",
       "      <td>1.0</td>\n",
       "      <td>79</td>\n",
       "      <td>1</td>\n",
       "      <td>0</td>\n",
       "      <td>0</td>\n",
       "      <td>1</td>\n",
       "      <td>1</td>\n",
       "      <td>174.12</td>\n",
       "      <td>24.000000</td>\n",
       "      <td>1</td>\n",
       "      <td>1</td>\n",
       "    </tr>\n",
       "  </tbody>\n",
       "</table>\n",
       "</div>"
      ],
      "text/plain": [
       "   gender  age  hypertension  heart_disease  ever_married  work_type  \\\n",
       "0     0.0   67             0              1             0          0   \n",
       "1     1.0   61             0              0             0          1   \n",
       "2     0.0   80             0              1             0          0   \n",
       "3     1.0   49             0              0             0          0   \n",
       "4     1.0   79             1              0             0          1   \n",
       "\n",
       "   Residence_type  avg_glucose_level        bmi  smoking_status  stroke  \n",
       "0               0             228.69  36.600000               0       1  \n",
       "1               1             202.21  28.893237               1       1  \n",
       "2               1             105.92  32.500000               1       1  \n",
       "3               0             171.23  34.400000               2       1  \n",
       "4               1             174.12  24.000000               1       1  "
      ]
     },
     "execution_count": 34,
     "metadata": {},
     "output_type": "execute_result"
    }
   ],
   "source": [
    "df.head()"
   ]
  },
  {
   "cell_type": "code",
   "execution_count": 35,
   "id": "cbec5306",
   "metadata": {},
   "outputs": [
    {
     "data": {
      "image/png": "[encoded data removed]",
      "text/plain": [
       "<Figure size 720x576 with 2 Axes>"
      ]
     },
     "metadata": {
      "needs_background": "light"
     },
     "output_type": "display_data"
    }
   ],
   "source": [
    "plt.figure(figsize=(10, 8))\n",
    "sns.heatmap(df.loc[:, [\"age\" ,\"hypertension\", \"heart_disease\", \"ever_married\", \n",
    "                       \"avg_glucose_level\", \"bmi\", \"stroke\"]].corr(), annot=True,)\n",
    "plt.title('Correlation between age ,hypertension, heart_disease,ever_married, avg_glucose_level, bmi, stroke')\n",
    "plt.show()"
   ]
  },
  {
   "cell_type": "code",
   "execution_count": 36,
   "id": "aa269fcc",
   "metadata": {},
   "outputs": [
    {
     "data": {
      "text/plain": [
       "gender               0\n",
       "age                  0\n",
       "hypertension         0\n",
       "heart_disease        0\n",
       "ever_married         0\n",
       "work_type            0\n",
       "Residence_type       0\n",
       "avg_glucose_level    0\n",
       "bmi                  0\n",
       "smoking_status       0\n",
       "stroke               0\n",
       "dtype: int64"
      ]
     },
     "execution_count": 36,
     "metadata": {},
     "output_type": "execute_result"
    }
   ],
   "source": [
    "df.gender=(df.gender.fillna(1))\n",
    "df.isna().sum()"
   ]
  },
  {
   "cell_type": "code",
   "execution_count": 37,
   "id": "0e7b36dd",
   "metadata": {},
   "outputs": [],
   "source": [
    "import imblearn\n",
    "from collections import Counter\n",
    "from imblearn.over_sampling import SMOTE\n",
    "from imblearn.under_sampling import RandomUnderSampler\n",
    "from imblearn.pipeline import Pipeline\n",
    "from sklearn.impute import SimpleImputer\n",
    "from sklearn.preprocessing import OneHotEncoder, StandardScaler\n",
    "from sklearn.compose import ColumnTransformer"
   ]
  },
  {
   "cell_type": "code",
   "execution_count": 38,
   "id": "be94cc30",
   "metadata": {},
   "outputs": [],
   "source": [
    "x = df.drop(\"stroke\" , axis = 1).values\n",
    "y= df[\"stroke\"]"
   ]
  },
  {
   "cell_type": "code",
   "execution_count": 39,
   "id": "a6fc4d37",
   "metadata": {
    "scrolled": true
   },
   "outputs": [
    {
     "data": {
      "text/plain": [
       "gender               0\n",
       "age                  0\n",
       "hypertension         0\n",
       "heart_disease        0\n",
       "ever_married         0\n",
       "work_type            0\n",
       "Residence_type       0\n",
       "avg_glucose_level    0\n",
       "bmi                  0\n",
       "smoking_status       0\n",
       "stroke               0\n",
       "dtype: int64"
      ]
     },
     "execution_count": 39,
     "metadata": {},
     "output_type": "execute_result"
    }
   ],
   "source": [
    "df.isna().sum()"
   ]
  },
  {
   "cell_type": "code",
   "execution_count": 40,
   "id": "654cc525",
   "metadata": {},
   "outputs": [
    {
     "name": "stdout",
     "output_type": "stream",
     "text": [
      "1    4861\n",
      "0    4861\n",
      "Name: stroke, dtype: int64\n"
     ]
    }
   ],
   "source": [
    "smote = SMOTE()\n",
    "\n",
    "x_smote, y_smote = smote.fit_resample(x, y)\n",
    "\n",
    "print(y_smote.value_counts())"
   ]
  },
  {
   "cell_type": "code",
   "execution_count": 41,
   "id": "4347a37e",
   "metadata": {},
   "outputs": [
    {
     "data": {
      "text/plain": [
       "Text(0, 0.5, 'Count')"
      ]
     },
     "execution_count": 41,
     "metadata": {},
     "output_type": "execute_result"
    },
    {
     "data": {
      "image/png": "[encoded data removed]",
      "text/plain": [
       "<Figure size 720x360 with 1 Axes>"
      ]
     },
     "metadata": {
      "needs_background": "light"
     },
     "output_type": "display_data"
    }
   ],
   "source": [
    "stroke_label = y_smote.value_counts()\n",
    "plt.figure(figsize=(10, 5))\n",
    "sns.barplot(stroke_label.index, stroke_label);\n",
    "plt.xlabel('Stroke', fontsize=20);\n",
    "plt.ylabel('Count', fontsize=20)"
   ]
  },
  {
   "cell_type": "code",
   "execution_count": 42,
   "id": "4d542ebf",
   "metadata": {},
   "outputs": [],
   "source": [
    "from sklearn.model_selection import train_test_split\n",
    "x_train,x_test, y_train,y_test=train_test_split(x_smote,y_smote,test_size=0.3,random_state = 1)"
   ]
  },
  {
   "cell_type": "code",
   "execution_count": 43,
   "id": "034d8b77",
   "metadata": {},
   "outputs": [],
   "source": [
    "#standard scalling\n",
    "sc_x = StandardScaler()\n",
    "x_train = sc_x.fit_transform(x_train)\n",
    "x_test = sc_x.transform(x_test)"
   ]
  },
  {
   "cell_type": "code",
   "execution_count": 44,
   "id": "571cfa01",
   "metadata": {},
   "outputs": [
    {
     "name": "stdout",
     "output_type": "stream",
     "text": [
      "(6805, 10) (2917, 10) (6805,) (2917,)\n"
     ]
    }
   ],
   "source": [
    "print(x_train.shape, x_test.shape,y_train.shape,y_test.shape)"
   ]
  },
  {
   "cell_type": "markdown",
   "id": "d0eb6274",
   "metadata": {},
   "source": [
    "## MODEL BUILDING"
   ]
  },
  {
   "cell_type": "markdown",
   "id": "2519b29c",
   "metadata": {},
   "source": [
    "### Random Forest"
   ]
  },
  {
   "cell_type": "code",
   "execution_count": 45,
   "id": "9f2f0bef",
   "metadata": {},
   "outputs": [],
   "source": [
    "rf= RandomForestClassifier(criterion= \"entropy\",n_estimators = 10,)"
   ]
  },
  {
   "cell_type": "code",
   "execution_count": 46,
   "id": "ed92ab34",
   "metadata": {},
   "outputs": [
    {
     "data": {
      "text/html": [
       "<style>#sk-container-id-1 {color: black;background-color: white;}#sk-container-id-1 pre{padding: 0;}#sk-container-id-1 div.sk-toggleable {background-color: white;}#sk-container-id-1 label.sk-toggleable__label {cursor: pointer;display: block;width: 100%;margin-bottom: 0;padding: 0.3em;box-sizing: border-box;text-align: center;}#sk-container-id-1 label.sk-toggleable__label-arrow:before {content: \"▸\";float: left;margin-right: 0.25em;color: #696969;}#sk-container-id-1 label.sk-toggleable__label-arrow:hover:before {color: black;}#sk-container-id-1 div.sk-estimator:hover label.sk-toggleable__label-arrow:before {color: black;}#sk-container-id-1 div.sk-toggleable__content {max-height: 0;max-width: 0;overflow: hidden;text-align: left;background-color: #f0f8ff;}#sk-container-id-1 div.sk-toggleable__content pre {margin: 0.2em;color: black;border-radius: 0.25em;background-color: #f0f8ff;}#sk-container-id-1 input.sk-toggleable__control:checked~div.sk-toggleable__content {max-height: 200px;max-width: 100%;overflow: auto;}#sk-container-id-1 input.sk-toggleable__control:checked~label.sk-toggleable__label-arrow:before {content: \"▾\";}#sk-container-id-1 div.sk-estimator input.sk-toggleable__control:checked~label.sk-toggleable__label {background-color: #d4ebff;}#sk-container-id-1 div.sk-label input.sk-toggleable__control:checked~label.sk-toggleable__label {background-color: #d4ebff;}#sk-container-id-1 input.sk-hidden--visually {border: 0;clip: rect(1px 1px 1px 1px);clip: rect(1px, 1px, 1px, 1px);height: 1px;margin: -1px;overflow: hidden;padding: 0;position: absolute;width: 1px;}#sk-container-id-1 div.sk-estimator {font-family: monospace;background-color: #f0f8ff;border: 1px dotted black;border-radius: 0.25em;box-sizing: border-box;margin-bottom: 0.5em;}#sk-container-id-1 div.sk-estimator:hover {background-color: #d4ebff;}#sk-container-id-1 div.sk-parallel-item::after {content: \"\";width: 100%;border-bottom: 1px solid gray;flex-grow: 1;}#sk-container-id-1 div.sk-label:hover label.sk-toggleable__label {background-color: #d4ebff;}#sk-container-id-1 div.sk-serial::before {content: \"\";position: absolute;border-left: 1px solid gray;box-sizing: border-box;top: 0;bottom: 0;left: 50%;z-index: 0;}#sk-container-id-1 div.sk-serial {display: flex;flex-direction: column;align-items: center;background-color: white;padding-right: 0.2em;padding-left: 0.2em;position: relative;}#sk-container-id-1 div.sk-item {position: relative;z-index: 1;}#sk-container-id-1 div.sk-parallel {display: flex;align-items: stretch;justify-content: center;background-color: white;position: relative;}#sk-container-id-1 div.sk-item::before, #sk-container-id-1 div.sk-parallel-item::before {content: \"\";position: absolute;border-left: 1px solid gray;box-sizing: border-box;top: 0;bottom: 0;left: 50%;z-index: -1;}#sk-container-id-1 div.sk-parallel-item {display: flex;flex-direction: column;z-index: 1;position: relative;background-color: white;}#sk-container-id-1 div.sk-parallel-item:first-child::after {align-self: flex-end;width: 50%;}#sk-container-id-1 div.sk-parallel-item:last-child::after {align-self: flex-start;width: 50%;}#sk-container-id-1 div.sk-parallel-item:only-child::after {width: 0;}#sk-container-id-1 div.sk-dashed-wrapped {border: 1px dashed gray;margin: 0 0.4em 0.5em 0.4em;box-sizing: border-box;padding-bottom: 0.4em;background-color: white;}#sk-container-id-1 div.sk-label label {font-family: monospace;font-weight: bold;display: inline-block;line-height: 1.2em;}#sk-container-id-1 div.sk-label-container {text-align: center;}#sk-container-id-1 div.sk-container {/* jupyter's `normalize.less` sets `[hidden] { display: none; }` but bootstrap.min.css set `[hidden] { display: none !important; }` so we also need the `!important` here to be able to override the default hidden behavior on the sphinx rendered scikit-learn.org. See: https://github.com/scikit-learn/scikit-learn/issues/21755 */display: inline-block !important;position: relative;}#sk-container-id-1 div.sk-text-repr-fallback {display: none;}</style><div id=\"sk-container-id-1\" class=\"sk-top-container\"><div class=\"sk-text-repr-fallback\"><pre>RandomForestClassifier(criterion=&#x27;entropy&#x27;, n_estimators=10)</pre><b>In a Jupyter environment, please rerun this cell to show the HTML representation or trust the notebook. <br />On GitHub, the HTML representation is unable to render, please try loading this page with nbviewer.org.</b></div><div class=\"sk-container\" hidden><div class=\"sk-item\"><div class=\"sk-estimator sk-toggleable\"><input class=\"sk-toggleable__control sk-hidden--visually\" id=\"sk-estimator-id-1\" type=\"checkbox\" checked><label for=\"sk-estimator-id-1\" class=\"sk-toggleable__label sk-toggleable__label-arrow\">RandomForestClassifier</label><div class=\"sk-toggleable__content\"><pre>RandomForestClassifier(criterion=&#x27;entropy&#x27;, n_estimators=10)</pre></div></div></div></div></div>"
      ],
      "text/plain": [
       "RandomForestClassifier(criterion='entropy', n_estimators=10)"
      ]
     },
     "execution_count": 46,
     "metadata": {},
     "output_type": "execute_result"
    }
   ],
   "source": [
    "rf.fit(x_train, y_train)"
   ]
  },
  {
   "cell_type": "code",
   "execution_count": 47,
   "id": "f6c5acb5",
   "metadata": {},
   "outputs": [],
   "source": [
    "rf_preds=rf.predict(x_test)"
   ]
  },
  {
   "cell_type": "code",
   "execution_count": 48,
   "id": "16ffef33",
   "metadata": {},
   "outputs": [
    {
     "data": {
      "text/plain": [
       "0.9964731814842028"
      ]
     },
     "execution_count": 48,
     "metadata": {},
     "output_type": "execute_result"
    }
   ],
   "source": [
    "#Accuracy of the trained model \n",
    "rf.score(x_train,y_train)"
   ]
  },
  {
   "cell_type": "code",
   "execution_count": 49,
   "id": "6d0f835f",
   "metadata": {},
   "outputs": [
    {
     "data": {
      "text/plain": [
       "array([[1430,   23],\n",
       "       [  74, 1390]], dtype=int64)"
      ]
     },
     "execution_count": 49,
     "metadata": {},
     "output_type": "execute_result"
    }
   ],
   "source": [
    "rf_cm = confusion_matrix (y_test, rf_preds)\n",
    "rf_cm"
   ]
  },
  {
   "cell_type": "code",
   "execution_count": 50,
   "id": "dc4c7bb9",
   "metadata": {},
   "outputs": [
    {
     "data": {
      "text/plain": [
       "Text(0.5, 1.0, 'confussion metrix for random forest')"
      ]
     },
     "execution_count": 50,
     "metadata": {},
     "output_type": "execute_result"
    },
    {
     "data": {
      "image/png": "[encoded data removed]",
      "text/plain": [
       "<Figure size 576x360 with 2 Axes>"
      ]
     },
     "metadata": {
      "needs_background": "light"
     },
     "output_type": "display_data"
    }
   ],
   "source": [
    "plt.figure(figsize = (8,5))\n",
    "sns.heatmap(rf_cm,annot=True,)\n",
    "plt.title(\"confussion metrix for random forest\")"
   ]
  },
  {
   "cell_type": "code",
   "execution_count": 51,
   "id": "ffbe0d08",
   "metadata": {},
   "outputs": [
    {
     "name": "stdout",
     "output_type": "stream",
     "text": [
      "              precision    recall  f1-score   support\n",
      "\n",
      "           0       0.95      0.98      0.97      1453\n",
      "           1       0.98      0.95      0.97      1464\n",
      "\n",
      "    accuracy                           0.97      2917\n",
      "   macro avg       0.97      0.97      0.97      2917\n",
      "weighted avg       0.97      0.97      0.97      2917\n",
      "\n"
     ]
    }
   ],
   "source": [
    "from sklearn.metrics import confusion_matrix,accuracy_score,classification_report \n",
    "print(classification_report(y_test,rf_preds))"
   ]
  },
  {
   "cell_type": "code",
   "execution_count": 52,
   "id": "c0d4e2ff",
   "metadata": {},
   "outputs": [
    {
     "data": {
      "text/plain": [
       "0.9667466575248543"
      ]
     },
     "execution_count": 52,
     "metadata": {},
     "output_type": "execute_result"
    }
   ],
   "source": [
    "#Accuracy of the test Model\n",
    "accuracy_score(y_test,rf_preds)"
   ]
  },
  {
   "cell_type": "code",
   "execution_count": 53,
   "id": "2ccdbee8",
   "metadata": {},
   "outputs": [
    {
     "name": "stdout",
     "output_type": "stream",
     "text": [
      "Accuracy: 0.9667466575248543\n",
      "precision: 0.9672602242098447\n",
      "recall: 0.9668121166307508\n",
      "F1 Score: 0.9667404034352189\n"
     ]
    }
   ],
   "source": [
    "from sklearn.metrics import precision_score, recall_score,accuracy_score, f1_score\n",
    "print(\"Accuracy:\", accuracy_score(y_test,rf_preds))\n",
    "print(\"precision:\", precision_score(y_test,rf_preds, average = \"macro\"))\n",
    "print(\"recall:\", recall_score(y_test,rf_preds,average =\"macro\"))\n",
    "print(\"F1 Score:\", f1_score(y_test,rf_preds, average = \"macro\"))"
   ]
  },
  {
   "cell_type": "markdown",
   "id": "c5fff74c",
   "metadata": {},
   "source": [
    "### Logistic Regresion \n"
   ]
  },
  {
   "cell_type": "code",
   "execution_count": 54,
   "id": "e60a77ea",
   "metadata": {},
   "outputs": [
    {
     "data": {
      "text/html": [
       "<style>#sk-container-id-2 {color: black;background-color: white;}#sk-container-id-2 pre{padding: 0;}#sk-container-id-2 div.sk-toggleable {background-color: white;}#sk-container-id-2 label.sk-toggleable__label {cursor: pointer;display: block;width: 100%;margin-bottom: 0;padding: 0.3em;box-sizing: border-box;text-align: center;}#sk-container-id-2 label.sk-toggleable__label-arrow:before {content: \"▸\";float: left;margin-right: 0.25em;color: #696969;}#sk-container-id-2 label.sk-toggleable__label-arrow:hover:before {color: black;}#sk-container-id-2 div.sk-estimator:hover label.sk-toggleable__label-arrow:before {color: black;}#sk-container-id-2 div.sk-toggleable__content {max-height: 0;max-width: 0;overflow: hidden;text-align: left;background-color: #f0f8ff;}#sk-container-id-2 div.sk-toggleable__content pre {margin: 0.2em;color: black;border-radius: 0.25em;background-color: #f0f8ff;}#sk-container-id-2 input.sk-toggleable__control:checked~div.sk-toggleable__content {max-height: 200px;max-width: 100%;overflow: auto;}#sk-container-id-2 input.sk-toggleable__control:checked~label.sk-toggleable__label-arrow:before {content: \"▾\";}#sk-container-id-2 div.sk-estimator input.sk-toggleable__control:checked~label.sk-toggleable__label {background-color: #d4ebff;}#sk-container-id-2 div.sk-label input.sk-toggleable__control:checked~label.sk-toggleable__label {background-color: #d4ebff;}#sk-container-id-2 input.sk-hidden--visually {border: 0;clip: rect(1px 1px 1px 1px);clip: rect(1px, 1px, 1px, 1px);height: 1px;margin: -1px;overflow: hidden;padding: 0;position: absolute;width: 1px;}#sk-container-id-2 div.sk-estimator {font-family: monospace;background-color: #f0f8ff;border: 1px dotted black;border-radius: 0.25em;box-sizing: border-box;margin-bottom: 0.5em;}#sk-container-id-2 div.sk-estimator:hover {background-color: #d4ebff;}#sk-container-id-2 div.sk-parallel-item::after {content: \"\";width: 100%;border-bottom: 1px solid gray;flex-grow: 1;}#sk-container-id-2 div.sk-label:hover label.sk-toggleable__label {background-color: #d4ebff;}#sk-container-id-2 div.sk-serial::before {content: \"\";position: absolute;border-left: 1px solid gray;box-sizing: border-box;top: 0;bottom: 0;left: 50%;z-index: 0;}#sk-container-id-2 div.sk-serial {display: flex;flex-direction: column;align-items: center;background-color: white;padding-right: 0.2em;padding-left: 0.2em;position: relative;}#sk-container-id-2 div.sk-item {position: relative;z-index: 1;}#sk-container-id-2 div.sk-parallel {display: flex;align-items: stretch;justify-content: center;background-color: white;position: relative;}#sk-container-id-2 div.sk-item::before, #sk-container-id-2 div.sk-parallel-item::before {content: \"\";position: absolute;border-left: 1px solid gray;box-sizing: border-box;top: 0;bottom: 0;left: 50%;z-index: -1;}#sk-container-id-2 div.sk-parallel-item {display: flex;flex-direction: column;z-index: 1;position: relative;background-color: white;}#sk-container-id-2 div.sk-parallel-item:first-child::after {align-self: flex-end;width: 50%;}#sk-container-id-2 div.sk-parallel-item:last-child::after {align-self: flex-start;width: 50%;}#sk-container-id-2 div.sk-parallel-item:only-child::after {width: 0;}#sk-container-id-2 div.sk-dashed-wrapped {border: 1px dashed gray;margin: 0 0.4em 0.5em 0.4em;box-sizing: border-box;padding-bottom: 0.4em;background-color: white;}#sk-container-id-2 div.sk-label label {font-family: monospace;font-weight: bold;display: inline-block;line-height: 1.2em;}#sk-container-id-2 div.sk-label-container {text-align: center;}#sk-container-id-2 div.sk-container {/* jupyter's `normalize.less` sets `[hidden] { display: none; }` but bootstrap.min.css set `[hidden] { display: none !important; }` so we also need the `!important` here to be able to override the default hidden behavior on the sphinx rendered scikit-learn.org. See: https://github.com/scikit-learn/scikit-learn/issues/21755 */display: inline-block !important;position: relative;}#sk-container-id-2 div.sk-text-repr-fallback {display: none;}</style><div id=\"sk-container-id-2\" class=\"sk-top-container\"><div class=\"sk-text-repr-fallback\"><pre>LogisticRegression(random_state=0)</pre><b>In a Jupyter environment, please rerun this cell to show the HTML representation or trust the notebook. <br />On GitHub, the HTML representation is unable to render, please try loading this page with nbviewer.org.</b></div><div class=\"sk-container\" hidden><div class=\"sk-item\"><div class=\"sk-estimator sk-toggleable\"><input class=\"sk-toggleable__control sk-hidden--visually\" id=\"sk-estimator-id-2\" type=\"checkbox\" checked><label for=\"sk-estimator-id-2\" class=\"sk-toggleable__label sk-toggleable__label-arrow\">LogisticRegression</label><div class=\"sk-toggleable__content\"><pre>LogisticRegression(random_state=0)</pre></div></div></div></div></div>"
      ],
      "text/plain": [
       "LogisticRegression(random_state=0)"
      ]
     },
     "execution_count": 54,
     "metadata": {},
     "output_type": "execute_result"
    }
   ],
   "source": [
    "lr=LogisticRegression(random_state=0)\n",
    "lr.fit(x_train,y_train)"
   ]
  },
  {
   "cell_type": "code",
   "execution_count": 55,
   "id": "38532460",
   "metadata": {},
   "outputs": [],
   "source": [
    "lr_pred=lr.predict(x_test)"
   ]
  },
  {
   "cell_type": "code",
   "execution_count": 56,
   "id": "98a99fe3",
   "metadata": {},
   "outputs": [
    {
     "data": {
      "text/plain": [
       "0.7676708302718589"
      ]
     },
     "execution_count": 56,
     "metadata": {},
     "output_type": "execute_result"
    }
   ],
   "source": [
    "#Accuracy of the trained model \n",
    "lr.score(x_train,y_train)"
   ]
  },
  {
   "cell_type": "code",
   "execution_count": 57,
   "id": "a16cf882",
   "metadata": {},
   "outputs": [
    {
     "data": {
      "text/plain": [
       "0.7754542338018512"
      ]
     },
     "execution_count": 57,
     "metadata": {},
     "output_type": "execute_result"
    }
   ],
   "source": [
    "#Accuracy of the test Model\n",
    "accuracy_score(y_test,lr_pred)"
   ]
  },
  {
   "cell_type": "code",
   "execution_count": 58,
   "id": "383ece74",
   "metadata": {},
   "outputs": [
    {
     "data": {
      "text/plain": [
       "array([[1076,  377],\n",
       "       [ 278, 1186]], dtype=int64)"
      ]
     },
     "execution_count": 58,
     "metadata": {},
     "output_type": "execute_result"
    }
   ],
   "source": [
    "lr_cm = confusion_matrix (y_test, lr_pred)\n",
    "lr_cm"
   ]
  },
  {
   "cell_type": "code",
   "execution_count": 59,
   "id": "13e268db",
   "metadata": {},
   "outputs": [
    {
     "name": "stdout",
     "output_type": "stream",
     "text": [
      "              precision    recall  f1-score   support\n",
      "\n",
      "           0       0.79      0.74      0.77      1453\n",
      "           1       0.76      0.81      0.78      1464\n",
      "\n",
      "    accuracy                           0.78      2917\n",
      "   macro avg       0.78      0.78      0.78      2917\n",
      "weighted avg       0.78      0.78      0.78      2917\n",
      "\n"
     ]
    }
   ],
   "source": [
    "from sklearn.metrics import confusion_matrix,accuracy_score,classification_report \n",
    "print(classification_report(y_test,lr_pred))"
   ]
  },
  {
   "cell_type": "code",
   "execution_count": 60,
   "id": "f1452e02",
   "metadata": {},
   "outputs": [
    {
     "name": "stdout",
     "output_type": "stream",
     "text": [
      "Accuracy: 0.7754542338018512\n",
      "precision: 0.7767398036764128\n",
      "recall: 0.7753230549945656\n",
      "F1 Score: 0.7751344655022031\n"
     ]
    }
   ],
   "source": [
    "print(\"Accuracy:\", accuracy_score(y_test,lr_pred))\n",
    "print(\"precision:\", precision_score(y_test,lr_pred, average = \"macro\"))\n",
    "print(\"recall:\", recall_score(y_test,lr_pred,average =\"macro\"))\n",
    "print(\"F1 Score:\", f1_score(y_test,lr_pred, average = \"macro\"))"
   ]
  },
  {
   "cell_type": "code",
   "execution_count": 61,
   "id": "0badc7f2",
   "metadata": {},
   "outputs": [
    {
     "data": {
      "text/plain": [
       "Text(0.5, 1.0, 'Logistic regressin Confussion matrics')"
      ]
     },
     "execution_count": 61,
     "metadata": {},
     "output_type": "execute_result"
    },
    {
     "data": {
      "image/png": "[encoded data removed]",
      "text/plain": [
       "<Figure size 576x360 with 2 Axes>"
      ]
     },
     "metadata": {
      "needs_background": "light"
     },
     "output_type": "display_data"
    }
   ],
   "source": [
    "plt.figure(figsize = (8,5))\n",
    "sns.heatmap(lr_cm,annot=True,)\n",
    "plt.title(\"Logistic regressin Confussion matrics\")"
   ]
  },
  {
   "cell_type": "markdown",
   "id": "4b313363",
   "metadata": {},
   "source": [
    "### Gradient Boosting"
   ]
  },
  {
   "cell_type": "code",
   "execution_count": 62,
   "id": "fe5a397e",
   "metadata": {},
   "outputs": [],
   "source": [
    "xgb = XGBClassifier()"
   ]
  },
  {
   "cell_type": "code",
   "execution_count": 63,
   "id": "ac4129a9",
   "metadata": {},
   "outputs": [],
   "source": [
    "xgb.fit(x_train, y_train)\n",
    "xgb_pred = xgb.predict(x_test)"
   ]
  },
  {
   "cell_type": "code",
   "execution_count": 64,
   "id": "06846e6e",
   "metadata": {},
   "outputs": [
    {
     "name": "stdout",
     "output_type": "stream",
     "text": [
      "0.9698320191978059\n"
     ]
    }
   ],
   "source": [
    "score = accuracy_score(y_test, xgb_pred)\n",
    "print(score)"
   ]
  },
  {
   "cell_type": "code",
   "execution_count": 65,
   "id": "1fbead3b",
   "metadata": {},
   "outputs": [
    {
     "data": {
      "text/plain": [
       "array([[1433,   20],\n",
       "       [  68, 1396]], dtype=int64)"
      ]
     },
     "execution_count": 65,
     "metadata": {},
     "output_type": "execute_result"
    }
   ],
   "source": [
    "xgb_cm = confusion_matrix(y_test, xgb_pred)\n",
    "xgb_cm"
   ]
  },
  {
   "cell_type": "code",
   "execution_count": 66,
   "id": "fcadb5db",
   "metadata": {},
   "outputs": [
    {
     "name": "stdout",
     "output_type": "stream",
     "text": [
      "              precision    recall  f1-score   support\n",
      "\n",
      "           0       0.95      0.99      0.97      1453\n",
      "           1       0.99      0.95      0.97      1464\n",
      "\n",
      "    accuracy                           0.97      2917\n",
      "   macro avg       0.97      0.97      0.97      2917\n",
      "weighted avg       0.97      0.97      0.97      2917\n",
      "\n"
     ]
    }
   ],
   "source": [
    "from sklearn.metrics import confusion_matrix,accuracy_score,classification_report \n",
    "print(classification_report(y_test,xgb_pred))"
   ]
  },
  {
   "cell_type": "code",
   "execution_count": 67,
   "id": "5255c4f8",
   "metadata": {},
   "outputs": [
    {
     "data": {
      "text/plain": [
       "Text(0.5, 1.0, 'XGBoost regressin Confussion matrics')"
      ]
     },
     "execution_count": 67,
     "metadata": {},
     "output_type": "execute_result"
    },
    {
     "data": {
      "image/png": "[encoded data removed]",
      "text/plain": [
       "<Figure size 576x360 with 2 Axes>"
      ]
     },
     "metadata": {
      "needs_background": "light"
     },
     "output_type": "display_data"
    }
   ],
   "source": [
    "plt.figure(figsize = (8,5))\n",
    "sns.heatmap(xgb_cm,annot=True,)\n",
    "plt.title(\"XGBoost regressin Confussion matrics\")"
   ]
  },
  {
   "cell_type": "code",
   "execution_count": 68,
   "id": "b23ced03",
   "metadata": {},
   "outputs": [
    {
     "name": "stdout",
     "output_type": "stream",
     "text": [
      "Accuracy: 0.9698320191978059\n",
      "precision: 0.9702862874844266\n",
      "recall: 0.9698936438271675\n",
      "F1 Score: 0.9698271646731362\n"
     ]
    }
   ],
   "source": [
    "print(\"Accuracy:\", accuracy_score(y_test,xgb_pred))\n",
    "print(\"precision:\", precision_score(y_test,xgb_pred, average = \"macro\"))\n",
    "print(\"recall:\", recall_score(y_test,xgb_pred,average =\"macro\"))\n",
    "print(\"F1 Score:\", f1_score(y_test,xgb_pred, average = \"macro\"))"
   ]
  },
  {
   "cell_type": "markdown",
   "id": "2d68aba9",
   "metadata": {},
   "source": [
    "### Neural Network"
   ]
  },
  {
   "cell_type": "code",
   "execution_count": 69,
   "id": "72531523",
   "metadata": {},
   "outputs": [],
   "source": [
    "import tensorflow as tf\n",
    "from tensorflow import keras\n",
    "from tensorflow.keras import Model\n",
    "from keras.models import Sequential\n",
    "from sklearn.neural_network import MLPClassifier"
   ]
  },
  {
   "cell_type": "code",
   "execution_count": 70,
   "id": "fdb78ea8",
   "metadata": {},
   "outputs": [],
   "source": [
    "nn_clf = MLPClassifier"
   ]
  },
  {
   "cell_type": "code",
   "execution_count": 71,
   "id": "98cf8852",
   "metadata": {},
   "outputs": [],
   "source": [
    "x_train=np.array(x_train,dtype=np.float)\n",
    "y_train=np.array(y_train,dtype=np.float)\n",
    "x_test=np.array(x_test,dtype=np.float)\n",
    "y_test=np.array(y_test,dtype=np.float)\n",
    "\n",
    "#converting the x and y to float"
   ]
  },
  {
   "cell_type": "code",
   "execution_count": 72,
   "id": "62223f75",
   "metadata": {},
   "outputs": [
    {
     "name": "stdout",
     "output_type": "stream",
     "text": [
      "Epoch 1/100\n",
      "54/54 [==============================] - 1s 3ms/step - loss: 0.6387 - accuracy: 0.6403\n",
      "Epoch 2/100\n",
      "54/54 [==============================] - 0s 3ms/step - loss: 0.5456 - accuracy: 0.7446\n",
      "Epoch 3/100\n",
      "54/54 [==============================] - 0s 3ms/step - loss: 0.4916 - accuracy: 0.7768\n",
      "Epoch 4/100\n",
      "54/54 [==============================] - 0s 3ms/step - loss: 0.4645 - accuracy: 0.7860\n",
      "Epoch 5/100\n",
      "54/54 [==============================] - 0s 3ms/step - loss: 0.4467 - accuracy: 0.7962\n",
      "Epoch 6/100\n",
      "54/54 [==============================] - 0s 3ms/step - loss: 0.4331 - accuracy: 0.8024\n",
      "Epoch 7/100\n",
      "54/54 [==============================] - 0s 3ms/step - loss: 0.4202 - accuracy: 0.8094\n",
      "Epoch 8/100\n",
      "54/54 [==============================] - 0s 3ms/step - loss: 0.4086 - accuracy: 0.8131\n",
      "Epoch 9/100\n",
      "54/54 [==============================] - 0s 3ms/step - loss: 0.3970 - accuracy: 0.8181\n",
      "Epoch 10/100\n",
      "54/54 [==============================] - 0s 3ms/step - loss: 0.3869 - accuracy: 0.8225\n",
      "Epoch 11/100\n",
      "54/54 [==============================] - 0s 3ms/step - loss: 0.3738 - accuracy: 0.8291\n",
      "Epoch 12/100\n",
      "54/54 [==============================] - 0s 3ms/step - loss: 0.3638 - accuracy: 0.8386\n",
      "Epoch 13/100\n",
      "54/54 [==============================] - 0s 3ms/step - loss: 0.3526 - accuracy: 0.8434\n",
      "Epoch 14/100\n",
      "54/54 [==============================] - 0s 3ms/step - loss: 0.3406 - accuracy: 0.8489\n",
      "Epoch 15/100\n",
      "54/54 [==============================] - 0s 3ms/step - loss: 0.3302 - accuracy: 0.8538\n",
      "Epoch 16/100\n",
      "54/54 [==============================] - 0s 3ms/step - loss: 0.3192 - accuracy: 0.8597\n",
      "Epoch 17/100\n",
      "54/54 [==============================] - 0s 3ms/step - loss: 0.3087 - accuracy: 0.8636\n",
      "Epoch 18/100\n",
      "54/54 [==============================] - 0s 3ms/step - loss: 0.3005 - accuracy: 0.8655\n",
      "Epoch 19/100\n",
      "54/54 [==============================] - 0s 3ms/step - loss: 0.2926 - accuracy: 0.8716\n",
      "Epoch 20/100\n",
      "54/54 [==============================] - 0s 3ms/step - loss: 0.2822 - accuracy: 0.8764\n",
      "Epoch 21/100\n",
      "54/54 [==============================] - 0s 3ms/step - loss: 0.2723 - accuracy: 0.8858\n",
      "Epoch 22/100\n",
      "54/54 [==============================] - 0s 3ms/step - loss: 0.2656 - accuracy: 0.8814\n",
      "Epoch 23/100\n",
      "54/54 [==============================] - 0s 3ms/step - loss: 0.2569 - accuracy: 0.8871\n",
      "Epoch 24/100\n",
      "54/54 [==============================] - 0s 3ms/step - loss: 0.2491 - accuracy: 0.8943\n",
      "Epoch 25/100\n",
      "54/54 [==============================] - 0s 3ms/step - loss: 0.2452 - accuracy: 0.8948\n",
      "Epoch 26/100\n",
      "54/54 [==============================] - 0s 3ms/step - loss: 0.2369 - accuracy: 0.8999\n",
      "Epoch 27/100\n",
      "54/54 [==============================] - 0s 3ms/step - loss: 0.2296 - accuracy: 0.9011\n",
      "Epoch 28/100\n",
      "54/54 [==============================] - 0s 3ms/step - loss: 0.2267 - accuracy: 0.9026\n",
      "Epoch 29/100\n",
      "54/54 [==============================] - 0s 3ms/step - loss: 0.2213 - accuracy: 0.9030\n",
      "Epoch 30/100\n",
      "54/54 [==============================] - 0s 3ms/step - loss: 0.2161 - accuracy: 0.9073\n",
      "Epoch 31/100\n",
      "54/54 [==============================] - 0s 3ms/step - loss: 0.2157 - accuracy: 0.9074\n",
      "Epoch 32/100\n",
      "54/54 [==============================] - 0s 3ms/step - loss: 0.2107 - accuracy: 0.9087\n",
      "Epoch 33/100\n",
      "54/54 [==============================] - 0s 3ms/step - loss: 0.2061 - accuracy: 0.9118\n",
      "Epoch 34/100\n",
      "54/54 [==============================] - 0s 3ms/step - loss: 0.2022 - accuracy: 0.9140\n",
      "Epoch 35/100\n",
      "54/54 [==============================] - 0s 3ms/step - loss: 0.2005 - accuracy: 0.9120\n",
      "Epoch 36/100\n",
      "54/54 [==============================] - 0s 3ms/step - loss: 0.1970 - accuracy: 0.9151\n",
      "Epoch 37/100\n",
      "54/54 [==============================] - 0s 3ms/step - loss: 0.1951 - accuracy: 0.9176\n",
      "Epoch 38/100\n",
      "54/54 [==============================] - 0s 3ms/step - loss: 0.1931 - accuracy: 0.9183\n",
      "Epoch 39/100\n",
      "54/54 [==============================] - 0s 3ms/step - loss: 0.1890 - accuracy: 0.9212\n",
      "Epoch 40/100\n",
      "54/54 [==============================] - 0s 3ms/step - loss: 0.1891 - accuracy: 0.9190\n",
      "Epoch 41/100\n",
      "54/54 [==============================] - 0s 3ms/step - loss: 0.1852 - accuracy: 0.9214\n",
      "Epoch 42/100\n",
      "54/54 [==============================] - 0s 3ms/step - loss: 0.1841 - accuracy: 0.9195\n",
      "Epoch 43/100\n",
      "54/54 [==============================] - 0s 3ms/step - loss: 0.1831 - accuracy: 0.9224\n",
      "Epoch 44/100\n",
      "54/54 [==============================] - 0s 3ms/step - loss: 0.1818 - accuracy: 0.9240\n",
      "Epoch 45/100\n",
      "54/54 [==============================] - 0s 3ms/step - loss: 0.1786 - accuracy: 0.9231\n",
      "Epoch 46/100\n",
      "54/54 [==============================] - 0s 3ms/step - loss: 0.1808 - accuracy: 0.9240\n",
      "Epoch 47/100\n",
      "54/54 [==============================] - 0s 3ms/step - loss: 0.1763 - accuracy: 0.9261\n",
      "Epoch 48/100\n",
      "54/54 [==============================] - 0s 3ms/step - loss: 0.1734 - accuracy: 0.9268\n",
      "Epoch 49/100\n",
      "54/54 [==============================] - 0s 3ms/step - loss: 0.1752 - accuracy: 0.9259\n",
      "Epoch 50/100\n",
      "54/54 [==============================] - 0s 3ms/step - loss: 0.1743 - accuracy: 0.9258\n",
      "Epoch 51/100\n",
      "54/54 [==============================] - 0s 3ms/step - loss: 0.1703 - accuracy: 0.9298\n",
      "Epoch 52/100\n",
      "54/54 [==============================] - 0s 3ms/step - loss: 0.1685 - accuracy: 0.9302\n",
      "Epoch 53/100\n",
      "54/54 [==============================] - 0s 3ms/step - loss: 0.1686 - accuracy: 0.9296\n",
      "Epoch 54/100\n",
      "54/54 [==============================] - 0s 3ms/step - loss: 0.1680 - accuracy: 0.9290\n",
      "Epoch 55/100\n",
      "54/54 [==============================] - 0s 3ms/step - loss: 0.1640 - accuracy: 0.9317\n",
      "Epoch 56/100\n",
      "54/54 [==============================] - 0s 3ms/step - loss: 0.1633 - accuracy: 0.9336\n",
      "Epoch 57/100\n",
      "54/54 [==============================] - 0s 3ms/step - loss: 0.1656 - accuracy: 0.9324\n",
      "Epoch 58/100\n",
      "54/54 [==============================] - 0s 3ms/step - loss: 0.1623 - accuracy: 0.9323\n",
      "Epoch 59/100\n",
      "54/54 [==============================] - 0s 3ms/step - loss: 0.1611 - accuracy: 0.9336\n",
      "Epoch 60/100\n",
      "54/54 [==============================] - 0s 3ms/step - loss: 0.1636 - accuracy: 0.9308\n",
      "Epoch 61/100\n",
      "54/54 [==============================] - 0s 3ms/step - loss: 0.1586 - accuracy: 0.9367\n",
      "Epoch 62/100\n",
      "54/54 [==============================] - 0s 3ms/step - loss: 0.1590 - accuracy: 0.9330\n",
      "Epoch 63/100\n",
      "54/54 [==============================] - 0s 3ms/step - loss: 0.1599 - accuracy: 0.9340\n",
      "Epoch 64/100\n",
      "54/54 [==============================] - 0s 3ms/step - loss: 0.1578 - accuracy: 0.9328\n",
      "Epoch 65/100\n",
      "54/54 [==============================] - 0s 3ms/step - loss: 0.1545 - accuracy: 0.9378\n",
      "Epoch 66/100\n",
      "54/54 [==============================] - 0s 3ms/step - loss: 0.1560 - accuracy: 0.9359\n",
      "Epoch 67/100\n",
      "54/54 [==============================] - 0s 3ms/step - loss: 0.1534 - accuracy: 0.9383\n",
      "Epoch 68/100\n",
      "54/54 [==============================] - 0s 3ms/step - loss: 0.1559 - accuracy: 0.9340\n",
      "Epoch 69/100\n",
      "54/54 [==============================] - 0s 3ms/step - loss: 0.1546 - accuracy: 0.9362\n",
      "Epoch 70/100\n",
      "54/54 [==============================] - 0s 3ms/step - loss: 0.1528 - accuracy: 0.9387\n",
      "Epoch 71/100\n",
      "54/54 [==============================] - 0s 3ms/step - loss: 0.1503 - accuracy: 0.9365\n",
      "Epoch 72/100\n",
      "54/54 [==============================] - 0s 3ms/step - loss: 0.1508 - accuracy: 0.9390\n",
      "Epoch 73/100\n",
      "54/54 [==============================] - 0s 3ms/step - loss: 0.1490 - accuracy: 0.9392\n",
      "Epoch 74/100\n",
      "54/54 [==============================] - 0s 3ms/step - loss: 0.1506 - accuracy: 0.9400\n",
      "Epoch 75/100\n",
      "54/54 [==============================] - 0s 3ms/step - loss: 0.1476 - accuracy: 0.9415\n",
      "Epoch 76/100\n",
      "54/54 [==============================] - 0s 3ms/step - loss: 0.1468 - accuracy: 0.9393\n",
      "Epoch 77/100\n",
      "54/54 [==============================] - 0s 3ms/step - loss: 0.1486 - accuracy: 0.9381\n",
      "Epoch 78/100\n",
      "54/54 [==============================] - 0s 3ms/step - loss: 0.1478 - accuracy: 0.9415\n",
      "Epoch 79/100\n",
      "54/54 [==============================] - 0s 3ms/step - loss: 0.1447 - accuracy: 0.9414\n",
      "Epoch 80/100\n",
      "54/54 [==============================] - 0s 3ms/step - loss: 0.1444 - accuracy: 0.9425\n",
      "Epoch 81/100\n",
      "54/54 [==============================] - 0s 3ms/step - loss: 0.1463 - accuracy: 0.9409\n",
      "Epoch 82/100\n",
      "54/54 [==============================] - 0s 3ms/step - loss: 0.1503 - accuracy: 0.9343\n",
      "Epoch 83/100\n",
      "54/54 [==============================] - 0s 3ms/step - loss: 0.1419 - accuracy: 0.9450\n",
      "Epoch 84/100\n",
      "54/54 [==============================] - 0s 3ms/step - loss: 0.1411 - accuracy: 0.9431\n",
      "Epoch 85/100\n",
      "54/54 [==============================] - 0s 3ms/step - loss: 0.1427 - accuracy: 0.9399\n",
      "Epoch 86/100\n",
      "54/54 [==============================] - 0s 3ms/step - loss: 0.1412 - accuracy: 0.9443\n",
      "Epoch 87/100\n",
      "54/54 [==============================] - 0s 3ms/step - loss: 0.1405 - accuracy: 0.9436\n",
      "Epoch 88/100\n",
      "54/54 [==============================] - 0s 3ms/step - loss: 0.1403 - accuracy: 0.9420\n",
      "Epoch 89/100\n",
      "54/54 [==============================] - 0s 3ms/step - loss: 0.1471 - accuracy: 0.9362\n",
      "Epoch 90/100\n",
      "54/54 [==============================] - 0s 3ms/step - loss: 0.1442 - accuracy: 0.9411\n",
      "Epoch 91/100\n",
      "54/54 [==============================] - 0s 3ms/step - loss: 0.1423 - accuracy: 0.9430\n",
      "Epoch 92/100\n",
      "54/54 [==============================] - 0s 3ms/step - loss: 0.1377 - accuracy: 0.9468\n",
      "Epoch 93/100\n",
      "54/54 [==============================] - 0s 3ms/step - loss: 0.1386 - accuracy: 0.9439\n",
      "Epoch 94/100\n",
      "54/54 [==============================] - 0s 3ms/step - loss: 0.1375 - accuracy: 0.9446\n",
      "Epoch 95/100\n",
      "54/54 [==============================] - 0s 3ms/step - loss: 0.1438 - accuracy: 0.9412\n",
      "Epoch 96/100\n",
      "54/54 [==============================] - 0s 3ms/step - loss: 0.1358 - accuracy: 0.9453\n",
      "Epoch 97/100\n",
      "54/54 [==============================] - 0s 3ms/step - loss: 0.1342 - accuracy: 0.9456\n",
      "Epoch 98/100\n",
      "54/54 [==============================] - 0s 3ms/step - loss: 0.1383 - accuracy: 0.9437\n",
      "Epoch 99/100\n",
      "54/54 [==============================] - 0s 3ms/step - loss: 0.1334 - accuracy: 0.9467\n",
      "Epoch 100/100\n",
      "54/54 [==============================] - 0s 3ms/step - loss: 0.1335 - accuracy: 0.9474\n"
     ]
    }
   ],
   "source": [
    "nn_clf =tf.keras.models.Sequential()\n",
    "nn_clf.add(tf.keras.layers.Dense(units=25,activation='relu'))\n",
    "nn_clf.add(tf.keras.layers.Dense(units=16,activation='relu'))\n",
    "nn_clf.add(tf.keras.layers.Dense(units=8,activation='relu'))\n",
    "nn_clf.add(tf.keras.layers.Dense(units=1,activation='sigmoid'))\n",
    "\n",
    "nn_clf.compile(optimizer='adam', loss='binary_crossentropy', metrics=['accuracy'])\n",
    "\n",
    "# model.summary()\n",
    "\n",
    "train=nn_clf.fit(x_train, y_train ,batch_size=128 , epochs=100)"
   ]
  },
  {
   "cell_type": "code",
   "execution_count": 73,
   "id": "d8326821",
   "metadata": {},
   "outputs": [
    {
     "data": {
      "text/plain": [
       "array([[1076,  377],\n",
       "       [ 278, 1186]], dtype=int64)"
      ]
     },
     "execution_count": 73,
     "metadata": {},
     "output_type": "execute_result"
    }
   ],
   "source": [
    "NN_cm = confusion_matrix (y_test, lr_pred)\n",
    "NN_cm"
   ]
  },
  {
   "cell_type": "code",
   "execution_count": 74,
   "id": "40cfd4c5",
   "metadata": {},
   "outputs": [
    {
     "data": {
      "text/plain": [
       "Text(0.5, 1.0, ' neural network Confussion matrics')"
      ]
     },
     "execution_count": 74,
     "metadata": {},
     "output_type": "execute_result"
    },
    {
     "data": {
      "image/png": "[encoded data removed]",
      "text/plain": [
       "<Figure size 576x360 with 2 Axes>"
      ]
     },
     "metadata": {
      "needs_background": "light"
     },
     "output_type": "display_data"
    }
   ],
   "source": [
    "#confusion metrics\n",
    "plt.figure(figsize = (8,5))\n",
    "sns.heatmap(NN_cm,annot=True,)\n",
    "plt.title(\" neural network Confussion matrics\")"
   ]
  },
  {
   "cell_type": "code",
   "execution_count": 75,
   "id": "19cb0312",
   "metadata": {},
   "outputs": [
    {
     "name": "stdout",
     "output_type": "stream",
     "text": [
      "160/160 [==============================] - 1s 2ms/step - loss: 26.6266 - accuracy: 0.9513\n",
      "accuracy: 0.9512720108032227\n"
     ]
    }
   ],
   "source": [
    "score = nn_clf.evaluate(x,y)\n",
    "print(\"accuracy:\", score [1])"
   ]
  },
  {
   "cell_type": "code",
   "execution_count": 76,
   "id": "0e1da5db",
   "metadata": {},
   "outputs": [
    {
     "name": "stdout",
     "output_type": "stream",
     "text": [
      "Accuracy: 0.9698320191978059\n",
      "precision: 0.9702862874844266\n",
      "recall: 0.9698936438271675\n",
      "F1 Score: 0.9698271646731362\n"
     ]
    }
   ],
   "source": [
    "print(\"Accuracy:\", accuracy_score(y_test,xgb_pred))\n",
    "print(\"precision:\", precision_score(y_test,xgb_pred, average = \"macro\"))\n",
    "print(\"recall:\", recall_score(y_test,xgb_pred,average =\"macro\"))\n",
    "print(\"F1 Score:\", f1_score(y_test,xgb_pred, average = \"macro\"))"
   ]
  },
  {
   "cell_type": "code",
   "execution_count": 77,
   "id": "3d54fc17",
   "metadata": {},
   "outputs": [
    {
     "data": {
      "text/plain": [
       "Text(0.5, 1.0, 'ROC curve analysis')"
      ]
     },
     "execution_count": 77,
     "metadata": {},
     "output_type": "execute_result"
    },
    {
     "data": {
      "image/png": "[encoded data removed]",
      "text/plain": [
       "<Figure size 432x288 with 1 Axes>"
      ]
     },
     "metadata": {
      "needs_background": "light"
     },
     "output_type": "display_data"
    }
   ],
   "source": [
    "plt.figure(0).clf()\n",
    "predicted_probab = rf.predict_proba(x_test)\n",
    "predicted_probab = predicted_probab[:, 1]\n",
    "fpr, tpr, _ = roc_curve(y_test, predicted_probab)\n",
    "auc = metrics.roc_auc_score(y_test, predicted_probab)\n",
    "pyplot.plot(fpr, tpr, marker=\".\", color=\"blue\",label=\"RandomForest classifier,AUC=\"+str(auc))\n",
    "plt.legend(prop={\"size\":7},loc=4)\n",
    "\n",
    "y_pred_proba= lr.predict_proba(x_test)[:,1]\n",
    "lr_fpr, lr_tpr, _ = metrics.roc_curve(y_test, y_pred_proba)\n",
    "auc = metrics.roc_auc_score(y_test, y_pred_proba)\n",
    "plt.plot(lr_fpr, lr_tpr,marker=\".\", color='red',label=\"logistic Regression classifier,AUC=\"+str(auc))\n",
    "plt.legend(prop={\"size\":7},loc=4)\n",
    "\n",
    "xgb_pred= xgb.predict_proba(x_test)[:,1]\n",
    "xgb_fpr, xgb_tpr, _ = metrics.roc_curve(y_test,xgb_pred)\n",
    "auc = metrics.roc_auc_score(y_test, xgb_pred)\n",
    "plt.plot(xgb_fpr, xgb_tpr,marker=\".\", color='yellow',label=\"Gradient Boosting,AUC=\"+str(auc))\n",
    "plt.legend(prop={\"size\":7},loc=4)\n",
    "plt.title(\"ROC curve analysis\")"
   ]
  },
  {
   "cell_type": "markdown",
   "id": "7f45ffe3",
   "metadata": {},
   "source": [
    "### Stacking"
   ]
  },
  {
   "cell_type": "code",
   "execution_count": 78,
   "id": "24b809c2",
   "metadata": {},
   "outputs": [],
   "source": [
    "estimators={\n",
    "    (\"rf\", RandomForestClassifier(n_estimators = 100, random_state = 42)),\n",
    "    (\"lr\", LogisticRegression(random_state = 42)),\n",
    "    (\"xgb\", XGBClassifier()),\n",
    "    (\"nn_clf\", MLPClassifier())\n",
    "}"
   ]
  },
  {
   "cell_type": "code",
   "execution_count": 79,
   "id": "e3dac7b6",
   "metadata": {},
   "outputs": [],
   "source": [
    "stack_model = StackingClassifier(estimators =estimators,final_estimator =RandomForestClassifier())"
   ]
  },
  {
   "cell_type": "code",
   "execution_count": 80,
   "id": "57ec6973",
   "metadata": {},
   "outputs": [
    {
     "data": {
      "text/html": [
       "<style>#sk-container-id-3 {color: black;background-color: white;}#sk-container-id-3 pre{padding: 0;}#sk-container-id-3 div.sk-toggleable {background-color: white;}#sk-container-id-3 label.sk-toggleable__label {cursor: pointer;display: block;width: 100%;margin-bottom: 0;padding: 0.3em;box-sizing: border-box;text-align: center;}#sk-container-id-3 label.sk-toggleable__label-arrow:before {content: \"▸\";float: left;margin-right: 0.25em;color: #696969;}#sk-container-id-3 label.sk-toggleable__label-arrow:hover:before {color: black;}#sk-container-id-3 div.sk-estimator:hover label.sk-toggleable__label-arrow:before {color: black;}#sk-container-id-3 div.sk-toggleable__content {max-height: 0;max-width: 0;overflow: hidden;text-align: left;background-color: #f0f8ff;}#sk-container-id-3 div.sk-toggleable__content pre {margin: 0.2em;color: black;border-radius: 0.25em;background-color: #f0f8ff;}#sk-container-id-3 input.sk-toggleable__control:checked~div.sk-toggleable__content {max-height: 200px;max-width: 100%;overflow: auto;}#sk-container-id-3 input.sk-toggleable__control:checked~label.sk-toggleable__label-arrow:before {content: \"▾\";}#sk-container-id-3 div.sk-estimator input.sk-toggleable__control:checked~label.sk-toggleable__label {background-color: #d4ebff;}#sk-container-id-3 div.sk-label input.sk-toggleable__control:checked~label.sk-toggleable__label {background-color: #d4ebff;}#sk-container-id-3 input.sk-hidden--visually {border: 0;clip: rect(1px 1px 1px 1px);clip: rect(1px, 1px, 1px, 1px);height: 1px;margin: -1px;overflow: hidden;padding: 0;position: absolute;width: 1px;}#sk-container-id-3 div.sk-estimator {font-family: monospace;background-color: #f0f8ff;border: 1px dotted black;border-radius: 0.25em;box-sizing: border-box;margin-bottom: 0.5em;}#sk-container-id-3 div.sk-estimator:hover {background-color: #d4ebff;}#sk-container-id-3 div.sk-parallel-item::after {content: \"\";width: 100%;border-bottom: 1px solid gray;flex-grow: 1;}#sk-container-id-3 div.sk-label:hover label.sk-toggleable__label {background-color: #d4ebff;}#sk-container-id-3 div.sk-serial::before {content: \"\";position: absolute;border-left: 1px solid gray;box-sizing: border-box;top: 0;bottom: 0;left: 50%;z-index: 0;}#sk-container-id-3 div.sk-serial {display: flex;flex-direction: column;align-items: center;background-color: white;padding-right: 0.2em;padding-left: 0.2em;position: relative;}#sk-container-id-3 div.sk-item {position: relative;z-index: 1;}#sk-container-id-3 div.sk-parallel {display: flex;align-items: stretch;justify-content: center;background-color: white;position: relative;}#sk-container-id-3 div.sk-item::before, #sk-container-id-3 div.sk-parallel-item::before {content: \"\";position: absolute;border-left: 1px solid gray;box-sizing: border-box;top: 0;bottom: 0;left: 50%;z-index: -1;}#sk-container-id-3 div.sk-parallel-item {display: flex;flex-direction: column;z-index: 1;position: relative;background-color: white;}#sk-container-id-3 div.sk-parallel-item:first-child::after {align-self: flex-end;width: 50%;}#sk-container-id-3 div.sk-parallel-item:last-child::after {align-self: flex-start;width: 50%;}#sk-container-id-3 div.sk-parallel-item:only-child::after {width: 0;}#sk-container-id-3 div.sk-dashed-wrapped {border: 1px dashed gray;margin: 0 0.4em 0.5em 0.4em;box-sizing: border-box;padding-bottom: 0.4em;background-color: white;}#sk-container-id-3 div.sk-label label {font-family: monospace;font-weight: bold;display: inline-block;line-height: 1.2em;}#sk-container-id-3 div.sk-label-container {text-align: center;}#sk-container-id-3 div.sk-container {/* jupyter's `normalize.less` sets `[hidden] { display: none; }` but bootstrap.min.css set `[hidden] { display: none !important; }` so we also need the `!important` here to be able to override the default hidden behavior on the sphinx rendered scikit-learn.org. See: https://github.com/scikit-learn/scikit-learn/issues/21755 */display: inline-block !important;position: relative;}#sk-container-id-3 div.sk-text-repr-fallback {display: none;}</style><div id=\"sk-container-id-3\" class=\"sk-top-container\"><div class=\"sk-text-repr-fallback\"><pre>StackingClassifier(estimators={(&#x27;lr&#x27;, LogisticRegression(random_state=42)),\n",
       "                               (&#x27;nn_clf&#x27;, MLPClassifier()),\n",
       "                               (&#x27;rf&#x27;, RandomForestClassifier(random_state=42)),\n",
       "                               (&#x27;xgb&#x27;,\n",
       "                                XGBClassifier(base_score=None, booster=None,\n",
       "                                              callbacks=None,\n",
       "                                              colsample_bylevel=None,\n",
       "                                              colsample_bynode=None,\n",
       "                                              colsample_bytree=None,\n",
       "                                              early_stopping_rounds=None,\n",
       "                                              enable_categorical=False,\n",
       "                                              eval_metric=None,\n",
       "                                              f...\n",
       "                                              interaction_constraints=None,\n",
       "                                              learning_rate=None, max_bin=None,\n",
       "                                              max_cat_threshold=None,\n",
       "                                              max_cat_to_onehot=None,\n",
       "                                              max_delta_step=None,\n",
       "                                              max_depth=None, max_leaves=None,\n",
       "                                              min_child_weight=None,\n",
       "                                              missing=nan,\n",
       "                                              monotone_constraints=None,\n",
       "                                              n_estimators=100, n_jobs=None,\n",
       "                                              num_parallel_tree=None,\n",
       "                                              predictor=None, random_state=None, ...))},\n",
       "                   final_estimator=RandomForestClassifier())</pre><b>In a Jupyter environment, please rerun this cell to show the HTML representation or trust the notebook. <br />On GitHub, the HTML representation is unable to render, please try loading this page with nbviewer.org.</b></div><div class=\"sk-container\" hidden><div class=\"sk-item sk-dashed-wrapped\"><div class=\"sk-label-container\"><div class=\"sk-label sk-toggleable\"><input class=\"sk-toggleable__control sk-hidden--visually\" id=\"sk-estimator-id-3\" type=\"checkbox\" ><label for=\"sk-estimator-id-3\" class=\"sk-toggleable__label sk-toggleable__label-arrow\">StackingClassifier</label><div class=\"sk-toggleable__content\"><pre>StackingClassifier(estimators={(&#x27;lr&#x27;, LogisticRegression(random_state=42)),\n",
       "                               (&#x27;nn_clf&#x27;, MLPClassifier()),\n",
       "                               (&#x27;rf&#x27;, RandomForestClassifier(random_state=42)),\n",
       "                               (&#x27;xgb&#x27;,\n",
       "                                XGBClassifier(base_score=None, booster=None,\n",
       "                                              callbacks=None,\n",
       "                                              colsample_bylevel=None,\n",
       "                                              colsample_bynode=None,\n",
       "                                              colsample_bytree=None,\n",
       "                                              early_stopping_rounds=None,\n",
       "                                              enable_categorical=False,\n",
       "                                              eval_metric=None,\n",
       "                                              f...\n",
       "                                              interaction_constraints=None,\n",
       "                                              learning_rate=None, max_bin=None,\n",
       "                                              max_cat_threshold=None,\n",
       "                                              max_cat_to_onehot=None,\n",
       "                                              max_delta_step=None,\n",
       "                                              max_depth=None, max_leaves=None,\n",
       "                                              min_child_weight=None,\n",
       "                                              missing=nan,\n",
       "                                              monotone_constraints=None,\n",
       "                                              n_estimators=100, n_jobs=None,\n",
       "                                              num_parallel_tree=None,\n",
       "                                              predictor=None, random_state=None, ...))},\n",
       "                   final_estimator=RandomForestClassifier())</pre></div></div></div><div class=\"sk-serial\"><div class=\"sk-item\"><div class=\"sk-parallel\"><div class=\"sk-parallel-item\"><div class=\"sk-item\"><div class=\"sk-label-container\"><div class=\"sk-label sk-toggleable\"><label>lr</label></div></div><div class=\"sk-serial\"><div class=\"sk-item\"><div class=\"sk-estimator sk-toggleable\"><input class=\"sk-toggleable__control sk-hidden--visually\" id=\"sk-estimator-id-4\" type=\"checkbox\" ><label for=\"sk-estimator-id-4\" class=\"sk-toggleable__label sk-toggleable__label-arrow\">LogisticRegression</label><div class=\"sk-toggleable__content\"><pre>LogisticRegression(random_state=42)</pre></div></div></div></div></div></div><div class=\"sk-parallel-item\"><div class=\"sk-item\"><div class=\"sk-label-container\"><div class=\"sk-label sk-toggleable\"><label>rf</label></div></div><div class=\"sk-serial\"><div class=\"sk-item\"><div class=\"sk-estimator sk-toggleable\"><input class=\"sk-toggleable__control sk-hidden--visually\" id=\"sk-estimator-id-5\" type=\"checkbox\" ><label for=\"sk-estimator-id-5\" class=\"sk-toggleable__label sk-toggleable__label-arrow\">RandomForestClassifier</label><div class=\"sk-toggleable__content\"><pre>RandomForestClassifier(random_state=42)</pre></div></div></div></div></div></div><div class=\"sk-parallel-item\"><div class=\"sk-item\"><div class=\"sk-label-container\"><div class=\"sk-label sk-toggleable\"><label>nn_clf</label></div></div><div class=\"sk-serial\"><div class=\"sk-item\"><div class=\"sk-estimator sk-toggleable\"><input class=\"sk-toggleable__control sk-hidden--visually\" id=\"sk-estimator-id-6\" type=\"checkbox\" ><label for=\"sk-estimator-id-6\" class=\"sk-toggleable__label sk-toggleable__label-arrow\">MLPClassifier</label><div class=\"sk-toggleable__content\"><pre>MLPClassifier()</pre></div></div></div></div></div></div><div class=\"sk-parallel-item\"><div class=\"sk-item\"><div class=\"sk-label-container\"><div class=\"sk-label sk-toggleable\"><label>xgb</label></div></div><div class=\"sk-serial\"><div class=\"sk-item\"><div class=\"sk-estimator sk-toggleable\"><input class=\"sk-toggleable__control sk-hidden--visually\" id=\"sk-estimator-id-7\" type=\"checkbox\" ><label for=\"sk-estimator-id-7\" class=\"sk-toggleable__label sk-toggleable__label-arrow\">XGBClassifier</label><div class=\"sk-toggleable__content\"><pre>XGBClassifier(base_score=None, booster=None, callbacks=None,\n",
       "              colsample_bylevel=None, colsample_bynode=None,\n",
       "              colsample_bytree=None, early_stopping_rounds=None,\n",
       "              enable_categorical=False, eval_metric=None, feature_types=None,\n",
       "              gamma=None, gpu_id=None, grow_policy=None, importance_type=None,\n",
       "              interaction_constraints=None, learning_rate=None, max_bin=None,\n",
       "              max_cat_threshold=None, max_cat_to_onehot=None,\n",
       "              max_delta_step=None, max_depth=None, max_leaves=None,\n",
       "              min_child_weight=None, missing=nan, monotone_constraints=None,\n",
       "              n_estimators=100, n_jobs=None, num_parallel_tree=None,\n",
       "              predictor=None, random_state=None, ...)</pre></div></div></div></div></div></div></div></div><div class=\"sk-item\"><div class=\"sk-parallel\"><div class=\"sk-parallel-item\"><div class=\"sk-item\"><div class=\"sk-label-container\"><div class=\"sk-label sk-toggleable\"><label>final_estimator</label></div></div><div class=\"sk-serial\"><div class=\"sk-item\"><div class=\"sk-estimator sk-toggleable\"><input class=\"sk-toggleable__control sk-hidden--visually\" id=\"sk-estimator-id-8\" type=\"checkbox\" ><label for=\"sk-estimator-id-8\" class=\"sk-toggleable__label sk-toggleable__label-arrow\">RandomForestClassifier</label><div class=\"sk-toggleable__content\"><pre>RandomForestClassifier()</pre></div></div></div></div></div></div></div></div></div></div></div></div>"
      ],
      "text/plain": [
       "StackingClassifier(estimators={('lr', LogisticRegression(random_state=42)),\n",
       "                               ('nn_clf', MLPClassifier()),\n",
       "                               ('rf', RandomForestClassifier(random_state=42)),\n",
       "                               ('xgb',\n",
       "                                XGBClassifier(base_score=None, booster=None,\n",
       "                                              callbacks=None,\n",
       "                                              colsample_bylevel=None,\n",
       "                                              colsample_bynode=None,\n",
       "                                              colsample_bytree=None,\n",
       "                                              early_stopping_rounds=None,\n",
       "                                              enable_categorical=False,\n",
       "                                              eval_metric=None,\n",
       "                                              f...\n",
       "                                              interaction_constraints=None,\n",
       "                                              learning_rate=None, max_bin=None,\n",
       "                                              max_cat_threshold=None,\n",
       "                                              max_cat_to_onehot=None,\n",
       "                                              max_delta_step=None,\n",
       "                                              max_depth=None, max_leaves=None,\n",
       "                                              min_child_weight=None,\n",
       "                                              missing=nan,\n",
       "                                              monotone_constraints=None,\n",
       "                                              n_estimators=100, n_jobs=None,\n",
       "                                              num_parallel_tree=None,\n",
       "                                              predictor=None, random_state=None, ...))},\n",
       "                   final_estimator=RandomForestClassifier())"
      ]
     },
     "execution_count": 80,
     "metadata": {},
     "output_type": "execute_result"
    }
   ],
   "source": [
    "stack_model.fit(x_train,y_train)"
   ]
  },
  {
   "cell_type": "code",
   "execution_count": 81,
   "id": "0e069b1f",
   "metadata": {},
   "outputs": [],
   "source": [
    "y_train_pred= stack_model.predict(x_train)\n",
    "y_test_pred= stack_model.predict(x_test)"
   ]
  },
  {
   "cell_type": "code",
   "execution_count": 82,
   "id": "572c3db4",
   "metadata": {},
   "outputs": [
    {
     "data": {
      "text/plain": [
       "1.0"
      ]
     },
     "execution_count": 82,
     "metadata": {},
     "output_type": "execute_result"
    }
   ],
   "source": [
    "#Trainning accuracy\n",
    "ac=accuracy_score(y_train,y_train_pred)\n",
    "ac"
   ]
  },
  {
   "cell_type": "code",
   "execution_count": 83,
   "id": "4e787b82",
   "metadata": {},
   "outputs": [],
   "source": [
    "cm = confusion_matrix(y_test, y_test_pred)\n",
    "ac=accuracy_score(y_test,y_test_pred)"
   ]
  },
  {
   "cell_type": "code",
   "execution_count": 84,
   "id": "9e9dfd65",
   "metadata": {},
   "outputs": [
    {
     "data": {
      "text/plain": [
       "array([[1431,   22],\n",
       "       [  58, 1406]], dtype=int64)"
      ]
     },
     "execution_count": 84,
     "metadata": {},
     "output_type": "execute_result"
    }
   ],
   "source": [
    "cm"
   ]
  },
  {
   "cell_type": "code",
   "execution_count": 85,
   "id": "1c403f5c",
   "metadata": {},
   "outputs": [
    {
     "data": {
      "text/plain": [
       "0.9725745629070963"
      ]
     },
     "execution_count": 85,
     "metadata": {},
     "output_type": "execute_result"
    }
   ],
   "source": [
    "#Testing accuracy\n",
    "ac"
   ]
  },
  {
   "cell_type": "code",
   "execution_count": 86,
   "id": "7c4dd636",
   "metadata": {},
   "outputs": [
    {
     "name": "stdout",
     "output_type": "stream",
     "text": [
      "              precision    recall  f1-score   support\n",
      "\n",
      "         0.0       0.96      0.98      0.97      1453\n",
      "         1.0       0.98      0.96      0.97      1464\n",
      "\n",
      "    accuracy                           0.97      2917\n",
      "   macro avg       0.97      0.97      0.97      2917\n",
      "weighted avg       0.97      0.97      0.97      2917\n",
      "\n"
     ]
    }
   ],
   "source": [
    "from sklearn.metrics import confusion_matrix,accuracy_score,classification_report \n",
    "print(classification_report(y_test,y_test_pred))"
   ]
  },
  {
   "cell_type": "code",
   "execution_count": null,
   "id": "efee9b5a",
   "metadata": {},
   "outputs": [],
   "source": []
  },
  {
   "cell_type": "code",
   "execution_count": null,
   "id": "eb497f75",
   "metadata": {},
   "outputs": [],
   "source": []
  }
 ],
 "metadata": {
  "kernelspec": {
   "display_name": "Python 3 (ipykernel)",
   "language": "python",
   "name": "python3"
  },
  "language_info": {
   "codemirror_mode": {
    "name": "ipython",
    "version": 3
   },
   "file_extension": ".py",
   "mimetype": "text/x-python",
   "name": "python",
   "nbconvert_exporter": "python",
   "pygments_lexer": "ipython3",
   "version": "3.9.7"
  }
 },
 "nbformat": 4,
 "nbformat_minor": 5
}
